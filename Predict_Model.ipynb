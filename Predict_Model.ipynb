{
 "cells": [
  {
   "cell_type": "code",
   "execution_count": 16,
   "id": "0dcd7a29-b838-4f73-b63a-e5de04ef50f3",
   "metadata": {},
   "outputs": [],
   "source": [
    "import pandas as pd\n",
    "import numpy as np\n",
    "import seaborn as sns\n",
    "from sklearn.model_selection import train_test_split, cross_val_score\n",
    "from sklearn.metrics import confusion_matrix\n",
    "from sklearn.linear_model import LogisticRegression\n",
    "from sklearn.metrics import f1_score \n",
    "from sklearn.metrics import precision_score\n",
    "from sklearn.metrics import recall_score\n",
    "from sklearn.tree import DecisionTreeClassifier\n",
    "from sklearn.ensemble import RandomForestClassifier\n",
    "from sklearn.tree import plot_tree\n",
    "import matplotlib.pyplot as plt\n",
    "from sklearn.model_selection import GridSearchCV\n",
    "from sklearn.model_selection import RandomizedSearchCV\n",
    "from sklearn.metrics import classification_report, confusion_matrix\n",
    "import statsmodels.api as sm\n",
    "from sklearn.preprocessing import StandardScaler\n",
    "from numpy import set_printoptions\n",
    "from sklearn.feature_selection import f_classif\n",
    "from sklearn.neighbors import KNeighborsClassifier\n",
    "from sklearn.metrics import confusion_matrix, accuracy_score\n",
    "from sklearn.metrics import mean_squared_error \n",
    "from sklearn.feature_selection import SelectKBest,f_regression, chi2"
   ]
  },
  {
   "cell_type": "code",
   "execution_count": 4,
   "id": "0036e54c-b69f-4511-abb9-f4d7eba1f35a",
   "metadata": {},
   "outputs": [
    {
     "data": {
      "text/html": [
       "<div>\n",
       "<style scoped>\n",
       "    .dataframe tbody tr th:only-of-type {\n",
       "        vertical-align: middle;\n",
       "    }\n",
       "\n",
       "    .dataframe tbody tr th {\n",
       "        vertical-align: top;\n",
       "    }\n",
       "\n",
       "    .dataframe thead th {\n",
       "        text-align: right;\n",
       "    }\n",
       "</style>\n",
       "<table border=\"1\" class=\"dataframe\">\n",
       "  <thead>\n",
       "    <tr style=\"text-align: right;\">\n",
       "      <th></th>\n",
       "      <th>cust_age</th>\n",
       "      <th>cust_profession</th>\n",
       "      <th>gender</th>\n",
       "      <th>hhld_size</th>\n",
       "      <th>marital_status</th>\n",
       "      <th>residence_status</th>\n",
       "      <th>state</th>\n",
       "      <th>response_flag</th>\n",
       "      <th>days_since_last_visit</th>\n",
       "      <th>months_since_first_purch</th>\n",
       "      <th>...</th>\n",
       "      <th>dollars_elec_L6M</th>\n",
       "      <th>dollars_haba_L6M</th>\n",
       "      <th>dollars_hw_L6M</th>\n",
       "      <th>total_dollars_L6M</th>\n",
       "      <th>basket_margin</th>\n",
       "      <th>margin_hw</th>\n",
       "      <th>margin_elec</th>\n",
       "      <th>margin_haba</th>\n",
       "      <th>margin_apparel</th>\n",
       "      <th>Clusters</th>\n",
       "    </tr>\n",
       "  </thead>\n",
       "  <tbody>\n",
       "    <tr>\n",
       "      <th>0</th>\n",
       "      <td>28</td>\n",
       "      <td>0</td>\n",
       "      <td>0</td>\n",
       "      <td>12</td>\n",
       "      <td>0</td>\n",
       "      <td>0</td>\n",
       "      <td>0</td>\n",
       "      <td>0</td>\n",
       "      <td>205</td>\n",
       "      <td>24</td>\n",
       "      <td>...</td>\n",
       "      <td>0</td>\n",
       "      <td>0</td>\n",
       "      <td>0</td>\n",
       "      <td>0</td>\n",
       "      <td>29.000</td>\n",
       "      <td>0.08</td>\n",
       "      <td>0.04</td>\n",
       "      <td>0.54</td>\n",
       "      <td>0.28</td>\n",
       "      <td>1</td>\n",
       "    </tr>\n",
       "    <tr>\n",
       "      <th>1</th>\n",
       "      <td>54</td>\n",
       "      <td>1</td>\n",
       "      <td>0</td>\n",
       "      <td>10</td>\n",
       "      <td>0</td>\n",
       "      <td>0</td>\n",
       "      <td>1</td>\n",
       "      <td>0</td>\n",
       "      <td>206</td>\n",
       "      <td>56</td>\n",
       "      <td>...</td>\n",
       "      <td>0</td>\n",
       "      <td>0</td>\n",
       "      <td>0</td>\n",
       "      <td>0</td>\n",
       "      <td>14.542</td>\n",
       "      <td>0.12</td>\n",
       "      <td>0.06</td>\n",
       "      <td>0.28</td>\n",
       "      <td>0.20</td>\n",
       "      <td>1</td>\n",
       "    </tr>\n",
       "    <tr>\n",
       "      <th>2</th>\n",
       "      <td>39</td>\n",
       "      <td>2</td>\n",
       "      <td>1</td>\n",
       "      <td>7</td>\n",
       "      <td>0</td>\n",
       "      <td>0</td>\n",
       "      <td>2</td>\n",
       "      <td>0</td>\n",
       "      <td>206</td>\n",
       "      <td>13</td>\n",
       "      <td>...</td>\n",
       "      <td>0</td>\n",
       "      <td>0</td>\n",
       "      <td>0</td>\n",
       "      <td>0</td>\n",
       "      <td>22.098</td>\n",
       "      <td>0.14</td>\n",
       "      <td>0.18</td>\n",
       "      <td>0.04</td>\n",
       "      <td>0.16</td>\n",
       "      <td>1</td>\n",
       "    </tr>\n",
       "    <tr>\n",
       "      <th>3</th>\n",
       "      <td>40</td>\n",
       "      <td>1</td>\n",
       "      <td>0</td>\n",
       "      <td>6</td>\n",
       "      <td>0</td>\n",
       "      <td>0</td>\n",
       "      <td>3</td>\n",
       "      <td>0</td>\n",
       "      <td>120</td>\n",
       "      <td>4</td>\n",
       "      <td>...</td>\n",
       "      <td>0</td>\n",
       "      <td>0</td>\n",
       "      <td>0</td>\n",
       "      <td>0</td>\n",
       "      <td>23.900</td>\n",
       "      <td>0.20</td>\n",
       "      <td>0.28</td>\n",
       "      <td>0.36</td>\n",
       "      <td>0.12</td>\n",
       "      <td>1</td>\n",
       "    </tr>\n",
       "    <tr>\n",
       "      <th>4</th>\n",
       "      <td>40</td>\n",
       "      <td>3</td>\n",
       "      <td>0</td>\n",
       "      <td>6</td>\n",
       "      <td>0</td>\n",
       "      <td>0</td>\n",
       "      <td>4</td>\n",
       "      <td>0</td>\n",
       "      <td>204</td>\n",
       "      <td>8</td>\n",
       "      <td>...</td>\n",
       "      <td>0</td>\n",
       "      <td>0</td>\n",
       "      <td>0</td>\n",
       "      <td>0</td>\n",
       "      <td>23.900</td>\n",
       "      <td>0.06</td>\n",
       "      <td>0.34</td>\n",
       "      <td>0.14</td>\n",
       "      <td>0.18</td>\n",
       "      <td>1</td>\n",
       "    </tr>\n",
       "    <tr>\n",
       "      <th>...</th>\n",
       "      <td>...</td>\n",
       "      <td>...</td>\n",
       "      <td>...</td>\n",
       "      <td>...</td>\n",
       "      <td>...</td>\n",
       "      <td>...</td>\n",
       "      <td>...</td>\n",
       "      <td>...</td>\n",
       "      <td>...</td>\n",
       "      <td>...</td>\n",
       "      <td>...</td>\n",
       "      <td>...</td>\n",
       "      <td>...</td>\n",
       "      <td>...</td>\n",
       "      <td>...</td>\n",
       "      <td>...</td>\n",
       "      <td>...</td>\n",
       "      <td>...</td>\n",
       "      <td>...</td>\n",
       "      <td>...</td>\n",
       "      <td>...</td>\n",
       "    </tr>\n",
       "    <tr>\n",
       "      <th>102534</th>\n",
       "      <td>24</td>\n",
       "      <td>0</td>\n",
       "      <td>0</td>\n",
       "      <td>1</td>\n",
       "      <td>3</td>\n",
       "      <td>0</td>\n",
       "      <td>16</td>\n",
       "      <td>0</td>\n",
       "      <td>205</td>\n",
       "      <td>14</td>\n",
       "      <td>...</td>\n",
       "      <td>1398</td>\n",
       "      <td>1681</td>\n",
       "      <td>719</td>\n",
       "      <td>4196</td>\n",
       "      <td>13.946</td>\n",
       "      <td>0.22</td>\n",
       "      <td>0.08</td>\n",
       "      <td>0.54</td>\n",
       "      <td>0.12</td>\n",
       "      <td>2</td>\n",
       "    </tr>\n",
       "    <tr>\n",
       "      <th>102535</th>\n",
       "      <td>56</td>\n",
       "      <td>1</td>\n",
       "      <td>0</td>\n",
       "      <td>1</td>\n",
       "      <td>0</td>\n",
       "      <td>2</td>\n",
       "      <td>16</td>\n",
       "      <td>0</td>\n",
       "      <td>208</td>\n",
       "      <td>16</td>\n",
       "      <td>...</td>\n",
       "      <td>0</td>\n",
       "      <td>466</td>\n",
       "      <td>0</td>\n",
       "      <td>753</td>\n",
       "      <td>15.086</td>\n",
       "      <td>0.04</td>\n",
       "      <td>0.04</td>\n",
       "      <td>0.16</td>\n",
       "      <td>0.10</td>\n",
       "      <td>1</td>\n",
       "    </tr>\n",
       "    <tr>\n",
       "      <th>102536</th>\n",
       "      <td>58</td>\n",
       "      <td>1</td>\n",
       "      <td>0</td>\n",
       "      <td>1</td>\n",
       "      <td>1</td>\n",
       "      <td>2</td>\n",
       "      <td>16</td>\n",
       "      <td>0</td>\n",
       "      <td>207</td>\n",
       "      <td>15</td>\n",
       "      <td>...</td>\n",
       "      <td>0</td>\n",
       "      <td>201</td>\n",
       "      <td>2509</td>\n",
       "      <td>2718</td>\n",
       "      <td>7.904</td>\n",
       "      <td>0.26</td>\n",
       "      <td>0.12</td>\n",
       "      <td>0.52</td>\n",
       "      <td>0.06</td>\n",
       "      <td>2</td>\n",
       "    </tr>\n",
       "    <tr>\n",
       "      <th>102537</th>\n",
       "      <td>36</td>\n",
       "      <td>5</td>\n",
       "      <td>0</td>\n",
       "      <td>1</td>\n",
       "      <td>3</td>\n",
       "      <td>0</td>\n",
       "      <td>16</td>\n",
       "      <td>0</td>\n",
       "      <td>213</td>\n",
       "      <td>15</td>\n",
       "      <td>...</td>\n",
       "      <td>0</td>\n",
       "      <td>600</td>\n",
       "      <td>0</td>\n",
       "      <td>869</td>\n",
       "      <td>13.200</td>\n",
       "      <td>0.04</td>\n",
       "      <td>0.12</td>\n",
       "      <td>0.40</td>\n",
       "      <td>0.24</td>\n",
       "      <td>1</td>\n",
       "    </tr>\n",
       "    <tr>\n",
       "      <th>102538</th>\n",
       "      <td>38</td>\n",
       "      <td>1</td>\n",
       "      <td>0</td>\n",
       "      <td>1</td>\n",
       "      <td>0</td>\n",
       "      <td>0</td>\n",
       "      <td>16</td>\n",
       "      <td>0</td>\n",
       "      <td>214</td>\n",
       "      <td>15</td>\n",
       "      <td>...</td>\n",
       "      <td>0</td>\n",
       "      <td>0</td>\n",
       "      <td>0</td>\n",
       "      <td>0</td>\n",
       "      <td>29.000</td>\n",
       "      <td>0.04</td>\n",
       "      <td>0.12</td>\n",
       "      <td>0.28</td>\n",
       "      <td>0.12</td>\n",
       "      <td>1</td>\n",
       "    </tr>\n",
       "  </tbody>\n",
       "</table>\n",
       "<p>102539 rows × 26 columns</p>\n",
       "</div>"
      ],
      "text/plain": [
       "        cust_age  cust_profession  gender  hhld_size  marital_status  \\\n",
       "0             28                0       0         12               0   \n",
       "1             54                1       0         10               0   \n",
       "2             39                2       1          7               0   \n",
       "3             40                1       0          6               0   \n",
       "4             40                3       0          6               0   \n",
       "...          ...              ...     ...        ...             ...   \n",
       "102534        24                0       0          1               3   \n",
       "102535        56                1       0          1               0   \n",
       "102536        58                1       0          1               1   \n",
       "102537        36                5       0          1               3   \n",
       "102538        38                1       0          1               0   \n",
       "\n",
       "        residence_status  state  response_flag  days_since_last_visit  \\\n",
       "0                      0      0              0                    205   \n",
       "1                      0      1              0                    206   \n",
       "2                      0      2              0                    206   \n",
       "3                      0      3              0                    120   \n",
       "4                      0      4              0                    204   \n",
       "...                  ...    ...            ...                    ...   \n",
       "102534                 0     16              0                    205   \n",
       "102535                 2     16              0                    208   \n",
       "102536                 2     16              0                    207   \n",
       "102537                 0     16              0                    213   \n",
       "102538                 0     16              0                    214   \n",
       "\n",
       "        months_since_first_purch  ...  dollars_elec_L6M  dollars_haba_L6M  \\\n",
       "0                             24  ...                 0                 0   \n",
       "1                             56  ...                 0                 0   \n",
       "2                             13  ...                 0                 0   \n",
       "3                              4  ...                 0                 0   \n",
       "4                              8  ...                 0                 0   \n",
       "...                          ...  ...               ...               ...   \n",
       "102534                        14  ...              1398              1681   \n",
       "102535                        16  ...                 0               466   \n",
       "102536                        15  ...                 0               201   \n",
       "102537                        15  ...                 0               600   \n",
       "102538                        15  ...                 0                 0   \n",
       "\n",
       "        dollars_hw_L6M  total_dollars_L6M  basket_margin  margin_hw  \\\n",
       "0                    0                  0         29.000       0.08   \n",
       "1                    0                  0         14.542       0.12   \n",
       "2                    0                  0         22.098       0.14   \n",
       "3                    0                  0         23.900       0.20   \n",
       "4                    0                  0         23.900       0.06   \n",
       "...                ...                ...            ...        ...   \n",
       "102534             719               4196         13.946       0.22   \n",
       "102535               0                753         15.086       0.04   \n",
       "102536            2509               2718          7.904       0.26   \n",
       "102537               0                869         13.200       0.04   \n",
       "102538               0                  0         29.000       0.04   \n",
       "\n",
       "        margin_elec  margin_haba  margin_apparel  Clusters  \n",
       "0              0.04         0.54            0.28         1  \n",
       "1              0.06         0.28            0.20         1  \n",
       "2              0.18         0.04            0.16         1  \n",
       "3              0.28         0.36            0.12         1  \n",
       "4              0.34         0.14            0.18         1  \n",
       "...             ...          ...             ...       ...  \n",
       "102534         0.08         0.54            0.12         2  \n",
       "102535         0.04         0.16            0.10         1  \n",
       "102536         0.12         0.52            0.06         2  \n",
       "102537         0.12         0.40            0.24         1  \n",
       "102538         0.12         0.28            0.12         1  \n",
       "\n",
       "[102539 rows x 26 columns]"
      ]
     },
     "execution_count": 4,
     "metadata": {},
     "output_type": "execute_result"
    }
   ],
   "source": [
    "df = pd. read_csv ('PCA_Clusters.csv')  #import data\n",
    "df"
   ]
  },
  {
   "cell_type": "markdown",
   "id": "78ed04fb-8321-42f3-8f73-17065c955ad2",
   "metadata": {
    "tags": []
   },
   "source": [
    "# Feature Selection"
   ]
  },
  {
   "cell_type": "code",
   "execution_count": 64,
   "id": "5b0359cd-2ca5-409a-817d-fce9e7836458",
   "metadata": {},
   "outputs": [
    {
     "data": {
      "image/png": "[encoded data removed]",
      "text/plain": [
       "<Figure size 432x288 with 2 Axes>"
      ]
     },
     "metadata": {
      "needs_background": "light"
     },
     "output_type": "display_data"
    }
   ],
   "source": [
    "df_cov = df.cov()\n",
    "sns.heatmap(df_cov, vmax=.8, square=True)\n",
    "plt.title(\"Covariance of Data\")\n",
    "plt.show()"
   ]
  },
  {
   "cell_type": "code",
   "execution_count": 65,
   "id": "3025eda4-17ee-441c-9465-9b058406c00c",
   "metadata": {},
   "outputs": [
    {
     "data": {
      "image/png": "[encoded data removed]",
      "text/plain": [
       "<Figure size 432x288 with 2 Axes>"
      ]
     },
     "metadata": {
      "needs_background": "light"
     },
     "output_type": "display_data"
    }
   ],
   "source": [
    "data_corr = df.corr()\n",
    "sns.heatmap(data_corr , vmax=.8, square=True)\n",
    "plt.title(\"Correlation of Data\")\n",
    "plt.show()"
   ]
  },
  {
   "cell_type": "code",
   "execution_count": 66,
   "id": "83ee7004-cd9c-45b0-a990-812fd5535cfe",
   "metadata": {},
   "outputs": [],
   "source": [
    "x_f = df.drop(columns=['response_flag','Clusters'])\n",
    "y_f = df['response_flag']"
   ]
  },
  {
   "cell_type": "code",
   "execution_count": 67,
   "id": "4ee758d2-95f8-4150-8b11-5021cb2fed6a",
   "metadata": {},
   "outputs": [
    {
     "data": {
      "text/plain": [
       "26"
      ]
     },
     "execution_count": 67,
     "metadata": {},
     "output_type": "execute_result"
    }
   ],
   "source": [
    "len(df.columns)"
   ]
  },
  {
   "cell_type": "code",
   "execution_count": 68,
   "id": "ea44dc00-cee1-4044-bee4-89c692c1da9b",
   "metadata": {},
   "outputs": [],
   "source": [
    "#train test split\n",
    "x_trainf, x_testf, y_trainf, y_testf = train_test_split(x_f, y_f, test_size=0.3, random_state=0)"
   ]
  },
  {
   "cell_type": "code",
   "execution_count": 69,
   "id": "1aaf62f8-1d04-438f-ba51-017db8841f9e",
   "metadata": {},
   "outputs": [],
   "source": [
    "'''using select Kbest for feature selection'''\n",
    "X_clf_new=SelectKBest(score_func=chi2,k=12).fit_transform(x_f,y_f)"
   ]
  },
  {
   "cell_type": "code",
   "execution_count": 70,
   "id": "10e35035-6039-42d3-85ba-316ae8c75381",
   "metadata": {},
   "outputs": [
    {
     "name": "stdout",
     "output_type": "stream",
     "text": [
      "[[  28.  205.   24. ...    0.    0.    0.]\n",
      " [  54.  206.   56. ...    0.    0.    0.]\n",
      " [  39.  206.   13. ...    0.    0.    0.]\n",
      " ...\n",
      " [  38.  208.   17. ...    0. 4285. 4500.]\n",
      " [  58.  206.   17. ...    0.    0.    0.]\n",
      " [  24.  205.   17. ...    0.    0.    0.]]\n"
     ]
    }
   ],
   "source": [
    "print(X_clf_new[:-5])"
   ]
  },
  {
   "cell_type": "code",
   "execution_count": 71,
   "id": "7ddaadb5-cabc-4f46-a5e0-c4793541900f",
   "metadata": {},
   "outputs": [
    {
     "name": "stdout",
     "output_type": "stream",
     "text": [
      "   cust_age  cust_profession  gender  hhld_size  marital_status  \\\n",
      "0        28                0       0         12               0   \n",
      "1        54                1       0         10               0   \n",
      "2        39                2       1          7               0   \n",
      "3        40                1       0          6               0   \n",
      "4        40                3       0          6               0   \n",
      "\n",
      "   residence_status  state  days_since_last_visit  months_since_first_purch  \\\n",
      "0                 0      0                    205                        24   \n",
      "1                 0      1                    206                        56   \n",
      "2                 0      2                    206                        13   \n",
      "3                 0      3                    120                         4   \n",
      "4                 0      4                    204                         8   \n",
      "\n",
      "   num_apparel_L6M  ...  dollars_apparel_L6M  dollars_elec_L6M  \\\n",
      "0                0  ...                    0                 0   \n",
      "1                0  ...                    0                 0   \n",
      "2                0  ...                    0                 0   \n",
      "3                0  ...                    0                 0   \n",
      "4                0  ...                    0                 0   \n",
      "\n",
      "   dollars_haba_L6M  dollars_hw_L6M  total_dollars_L6M  basket_margin  \\\n",
      "0                 0               0                  0         29.000   \n",
      "1                 0               0                  0         14.542   \n",
      "2                 0               0                  0         22.098   \n",
      "3                 0               0                  0         23.900   \n",
      "4                 0               0                  0         23.900   \n",
      "\n",
      "   margin_hw  margin_elec  margin_haba  margin_apparel  \n",
      "0       0.08         0.04         0.54            0.28  \n",
      "1       0.12         0.06         0.28            0.20  \n",
      "2       0.14         0.18         0.04            0.16  \n",
      "3       0.20         0.28         0.36            0.12  \n",
      "4       0.06         0.34         0.14            0.18  \n",
      "\n",
      "[5 rows x 24 columns]\n"
     ]
    }
   ],
   "source": [
    "print(x_f.head())"
   ]
  },
  {
   "cell_type": "markdown",
   "id": "3bc3e59a-dad7-46f1-8b23-5fd6b41c4a4d",
   "metadata": {},
   "source": [
    "cust_age,days_since_last_visit,months_since_first_purch,num_apparel_L6M,num_elec_L6M,num_haba_L6M,num_hw_L6M,dollars_apparel_L6M,dollars_elec_L6M,dollars_haba_L6M,dollars_hw_L6M,total_dollars_L6M"
   ]
  },
  {
   "cell_type": "code",
   "execution_count": 22,
   "id": "3d511466-d2ac-4358-a92a-ec777c10c770",
   "metadata": {},
   "outputs": [],
   "source": [
    "x = df[['cust_age','days_since_last_visit','months_since_first_purch','num_apparel_L6M','num_elec_L6M','num_haba_L6M','num_hw_L6M','total_num_purch_L6M','dollars_apparel_L6M','dollars_elec_L6M','dollars_haba_L6M','dollars_hw_L6M','total_dollars_L6M']]\n",
    "y = df['response_flag']"
   ]
  },
  {
   "cell_type": "code",
   "execution_count": 23,
   "id": "76bc55fd-0fe7-416b-b21a-33e0894367db",
   "metadata": {},
   "outputs": [],
   "source": [
    "#train test split\n",
    "x_train, x_test, y_train, y_test = train_test_split(x, y, test_size=0.3, random_state=0)"
   ]
  },
  {
   "cell_type": "code",
   "execution_count": 26,
   "id": "3d3de5e7-a5ab-46a2-a483-6d7167b4157d",
   "metadata": {},
   "outputs": [
    {
     "data": {
      "text/html": [
       "<style>#sk-container-id-2 {color: black;background-color: white;}#sk-container-id-2 pre{padding: 0;}#sk-container-id-2 div.sk-toggleable {background-color: white;}#sk-container-id-2 label.sk-toggleable__label {cursor: pointer;display: block;width: 100%;margin-bottom: 0;padding: 0.3em;box-sizing: border-box;text-align: center;}#sk-container-id-2 label.sk-toggleable__label-arrow:before {content: \"▸\";float: left;margin-right: 0.25em;color: #696969;}#sk-container-id-2 label.sk-toggleable__label-arrow:hover:before {color: black;}#sk-container-id-2 div.sk-estimator:hover label.sk-toggleable__label-arrow:before {color: black;}#sk-container-id-2 div.sk-toggleable__content {max-height: 0;max-width: 0;overflow: hidden;text-align: left;background-color: #f0f8ff;}#sk-container-id-2 div.sk-toggleable__content pre {margin: 0.2em;color: black;border-radius: 0.25em;background-color: #f0f8ff;}#sk-container-id-2 input.sk-toggleable__control:checked~div.sk-toggleable__content {max-height: 200px;max-width: 100%;overflow: auto;}#sk-container-id-2 input.sk-toggleable__control:checked~label.sk-toggleable__label-arrow:before {content: \"▾\";}#sk-container-id-2 div.sk-estimator input.sk-toggleable__control:checked~label.sk-toggleable__label {background-color: #d4ebff;}#sk-container-id-2 div.sk-label input.sk-toggleable__control:checked~label.sk-toggleable__label {background-color: #d4ebff;}#sk-container-id-2 input.sk-hidden--visually {border: 0;clip: rect(1px 1px 1px 1px);clip: rect(1px, 1px, 1px, 1px);height: 1px;margin: -1px;overflow: hidden;padding: 0;position: absolute;width: 1px;}#sk-container-id-2 div.sk-estimator {font-family: monospace;background-color: #f0f8ff;border: 1px dotted black;border-radius: 0.25em;box-sizing: border-box;margin-bottom: 0.5em;}#sk-container-id-2 div.sk-estimator:hover {background-color: #d4ebff;}#sk-container-id-2 div.sk-parallel-item::after {content: \"\";width: 100%;border-bottom: 1px solid gray;flex-grow: 1;}#sk-container-id-2 div.sk-label:hover label.sk-toggleable__label {background-color: #d4ebff;}#sk-container-id-2 div.sk-serial::before {content: \"\";position: absolute;border-left: 1px solid gray;box-sizing: border-box;top: 0;bottom: 0;left: 50%;z-index: 0;}#sk-container-id-2 div.sk-serial {display: flex;flex-direction: column;align-items: center;background-color: white;padding-right: 0.2em;padding-left: 0.2em;position: relative;}#sk-container-id-2 div.sk-item {position: relative;z-index: 1;}#sk-container-id-2 div.sk-parallel {display: flex;align-items: stretch;justify-content: center;background-color: white;position: relative;}#sk-container-id-2 div.sk-item::before, #sk-container-id-2 div.sk-parallel-item::before {content: \"\";position: absolute;border-left: 1px solid gray;box-sizing: border-box;top: 0;bottom: 0;left: 50%;z-index: -1;}#sk-container-id-2 div.sk-parallel-item {display: flex;flex-direction: column;z-index: 1;position: relative;background-color: white;}#sk-container-id-2 div.sk-parallel-item:first-child::after {align-self: flex-end;width: 50%;}#sk-container-id-2 div.sk-parallel-item:last-child::after {align-self: flex-start;width: 50%;}#sk-container-id-2 div.sk-parallel-item:only-child::after {width: 0;}#sk-container-id-2 div.sk-dashed-wrapped {border: 1px dashed gray;margin: 0 0.4em 0.5em 0.4em;box-sizing: border-box;padding-bottom: 0.4em;background-color: white;}#sk-container-id-2 div.sk-label label {font-family: monospace;font-weight: bold;display: inline-block;line-height: 1.2em;}#sk-container-id-2 div.sk-label-container {text-align: center;}#sk-container-id-2 div.sk-container {/* jupyter's `normalize.less` sets `[hidden] { display: none; }` but bootstrap.min.css set `[hidden] { display: none !important; }` so we also need the `!important` here to be able to override the default hidden behavior on the sphinx rendered scikit-learn.org. See: https://github.com/scikit-learn/scikit-learn/issues/21755 */display: inline-block !important;position: relative;}#sk-container-id-2 div.sk-text-repr-fallback {display: none;}</style><div id=\"sk-container-id-2\" class=\"sk-top-container\"><div class=\"sk-text-repr-fallback\"><pre>LogisticRegression(solver=&#x27;newton-cg&#x27;)</pre><b>In a Jupyter environment, please rerun this cell to show the HTML representation or trust the notebook. <br />On GitHub, the HTML representation is unable to render, please try loading this page with nbviewer.org.</b></div><div class=\"sk-container\" hidden><div class=\"sk-item\"><div class=\"sk-estimator sk-toggleable\"><input class=\"sk-toggleable__control sk-hidden--visually\" id=\"sk-estimator-id-2\" type=\"checkbox\" checked><label for=\"sk-estimator-id-2\" class=\"sk-toggleable__label sk-toggleable__label-arrow\">LogisticRegression</label><div class=\"sk-toggleable__content\"><pre>LogisticRegression(solver=&#x27;newton-cg&#x27;)</pre></div></div></div></div></div>"
      ],
      "text/plain": [
       "LogisticRegression(solver='newton-cg')"
      ]
     },
     "execution_count": 26,
     "metadata": {},
     "output_type": "execute_result"
    }
   ],
   "source": [
    "logmodel = LogisticRegression (solver = 'newton-cg') #initialize\n",
    "logmodel.fit(x_train, y_train) #fit"
   ]
  },
  {
   "cell_type": "code",
   "execution_count": 27,
   "id": "f944c231-cc17-4855-a4cf-60cfc1146997",
   "metadata": {},
   "outputs": [],
   "source": [
    "probalities = logmodel.predict_proba(x_test)\n",
    "y_pred = logmodel.predict(x_test)"
   ]
  },
  {
   "cell_type": "code",
   "execution_count": 28,
   "id": "fe820cf9-3d37-4128-b99b-99803b8ebf32",
   "metadata": {},
   "outputs": [
    {
     "data": {
      "text/plain": [
       "array([[30356,     0],\n",
       "       [  406,     0]])"
      ]
     },
     "execution_count": 28,
     "metadata": {},
     "output_type": "execute_result"
    }
   ],
   "source": [
    "#Confusion Matrix\n",
    "confusion_matrix = confusion_matrix(y_test, y_pred)\n",
    "confusion_matrix"
   ]
  },
  {
   "cell_type": "code",
   "execution_count": 29,
   "id": "f56994a2-a6e7-4646-9f2b-638b4906409e",
   "metadata": {},
   "outputs": [
    {
     "name": "stdout",
     "output_type": "stream",
     "text": [
      "rmse 0.1148829907073504\n"
     ]
    }
   ],
   "source": [
    "rmse_test = mean_squared_error(y_test, y_pred, squared=(False)) \n",
    "print('rmse', rmse_test)"
   ]
  },
  {
   "cell_type": "markdown",
   "id": "abdc32cc-f72c-4d8e-b8d9-a70398ffd7de",
   "metadata": {
    "tags": []
   },
   "source": [
    "# Logistic Regresssion w/ Feature Selection"
   ]
  },
  {
   "cell_type": "code",
   "execution_count": 5,
   "id": "28e4feb1-8715-43c6-8158-46ab86817cfd",
   "metadata": {},
   "outputs": [],
   "source": [
    "x1 = df.drop(columns=['response_flag','Clusters'])\n",
    "y1 = df['response_flag']"
   ]
  },
  {
   "cell_type": "code",
   "execution_count": 6,
   "id": "47e95fe1-a695-40e2-9919-c27f76b8ffec",
   "metadata": {},
   "outputs": [],
   "source": [
    "#train test split\n",
    "x_train1, x_test1, y_train1, y_test1 = train_test_split(x1, y1, test_size=0.3, random_state=0)"
   ]
  },
  {
   "cell_type": "code",
   "execution_count": 7,
   "id": "e19062f8-6d29-44e2-ad0a-9efc7b3e4380",
   "metadata": {},
   "outputs": [
    {
     "name": "stderr",
     "output_type": "stream",
     "text": [
      "/Users/jingu/opt/anaconda3/lib/python3.9/site-packages/sklearn/utils/optimize.py:210: ConvergenceWarning: newton-cg failed to converge. Increase the number of iterations.\n",
      "  warnings.warn(\n"
     ]
    },
    {
     "data": {
      "text/html": [
       "<style>#sk-container-id-1 {color: black;background-color: white;}#sk-container-id-1 pre{padding: 0;}#sk-container-id-1 div.sk-toggleable {background-color: white;}#sk-container-id-1 label.sk-toggleable__label {cursor: pointer;display: block;width: 100%;margin-bottom: 0;padding: 0.3em;box-sizing: border-box;text-align: center;}#sk-container-id-1 label.sk-toggleable__label-arrow:before {content: \"▸\";float: left;margin-right: 0.25em;color: #696969;}#sk-container-id-1 label.sk-toggleable__label-arrow:hover:before {color: black;}#sk-container-id-1 div.sk-estimator:hover label.sk-toggleable__label-arrow:before {color: black;}#sk-container-id-1 div.sk-toggleable__content {max-height: 0;max-width: 0;overflow: hidden;text-align: left;background-color: #f0f8ff;}#sk-container-id-1 div.sk-toggleable__content pre {margin: 0.2em;color: black;border-radius: 0.25em;background-color: #f0f8ff;}#sk-container-id-1 input.sk-toggleable__control:checked~div.sk-toggleable__content {max-height: 200px;max-width: 100%;overflow: auto;}#sk-container-id-1 input.sk-toggleable__control:checked~label.sk-toggleable__label-arrow:before {content: \"▾\";}#sk-container-id-1 div.sk-estimator input.sk-toggleable__control:checked~label.sk-toggleable__label {background-color: #d4ebff;}#sk-container-id-1 div.sk-label input.sk-toggleable__control:checked~label.sk-toggleable__label {background-color: #d4ebff;}#sk-container-id-1 input.sk-hidden--visually {border: 0;clip: rect(1px 1px 1px 1px);clip: rect(1px, 1px, 1px, 1px);height: 1px;margin: -1px;overflow: hidden;padding: 0;position: absolute;width: 1px;}#sk-container-id-1 div.sk-estimator {font-family: monospace;background-color: #f0f8ff;border: 1px dotted black;border-radius: 0.25em;box-sizing: border-box;margin-bottom: 0.5em;}#sk-container-id-1 div.sk-estimator:hover {background-color: #d4ebff;}#sk-container-id-1 div.sk-parallel-item::after {content: \"\";width: 100%;border-bottom: 1px solid gray;flex-grow: 1;}#sk-container-id-1 div.sk-label:hover label.sk-toggleable__label {background-color: #d4ebff;}#sk-container-id-1 div.sk-serial::before {content: \"\";position: absolute;border-left: 1px solid gray;box-sizing: border-box;top: 0;bottom: 0;left: 50%;z-index: 0;}#sk-container-id-1 div.sk-serial {display: flex;flex-direction: column;align-items: center;background-color: white;padding-right: 0.2em;padding-left: 0.2em;position: relative;}#sk-container-id-1 div.sk-item {position: relative;z-index: 1;}#sk-container-id-1 div.sk-parallel {display: flex;align-items: stretch;justify-content: center;background-color: white;position: relative;}#sk-container-id-1 div.sk-item::before, #sk-container-id-1 div.sk-parallel-item::before {content: \"\";position: absolute;border-left: 1px solid gray;box-sizing: border-box;top: 0;bottom: 0;left: 50%;z-index: -1;}#sk-container-id-1 div.sk-parallel-item {display: flex;flex-direction: column;z-index: 1;position: relative;background-color: white;}#sk-container-id-1 div.sk-parallel-item:first-child::after {align-self: flex-end;width: 50%;}#sk-container-id-1 div.sk-parallel-item:last-child::after {align-self: flex-start;width: 50%;}#sk-container-id-1 div.sk-parallel-item:only-child::after {width: 0;}#sk-container-id-1 div.sk-dashed-wrapped {border: 1px dashed gray;margin: 0 0.4em 0.5em 0.4em;box-sizing: border-box;padding-bottom: 0.4em;background-color: white;}#sk-container-id-1 div.sk-label label {font-family: monospace;font-weight: bold;display: inline-block;line-height: 1.2em;}#sk-container-id-1 div.sk-label-container {text-align: center;}#sk-container-id-1 div.sk-container {/* jupyter's `normalize.less` sets `[hidden] { display: none; }` but bootstrap.min.css set `[hidden] { display: none !important; }` so we also need the `!important` here to be able to override the default hidden behavior on the sphinx rendered scikit-learn.org. See: https://github.com/scikit-learn/scikit-learn/issues/21755 */display: inline-block !important;position: relative;}#sk-container-id-1 div.sk-text-repr-fallback {display: none;}</style><div id=\"sk-container-id-1\" class=\"sk-top-container\"><div class=\"sk-text-repr-fallback\"><pre>LogisticRegression(solver=&#x27;newton-cg&#x27;)</pre><b>In a Jupyter environment, please rerun this cell to show the HTML representation or trust the notebook. <br />On GitHub, the HTML representation is unable to render, please try loading this page with nbviewer.org.</b></div><div class=\"sk-container\" hidden><div class=\"sk-item\"><div class=\"sk-estimator sk-toggleable\"><input class=\"sk-toggleable__control sk-hidden--visually\" id=\"sk-estimator-id-1\" type=\"checkbox\" checked><label for=\"sk-estimator-id-1\" class=\"sk-toggleable__label sk-toggleable__label-arrow\">LogisticRegression</label><div class=\"sk-toggleable__content\"><pre>LogisticRegression(solver=&#x27;newton-cg&#x27;)</pre></div></div></div></div></div>"
      ],
      "text/plain": [
       "LogisticRegression(solver='newton-cg')"
      ]
     },
     "execution_count": 7,
     "metadata": {},
     "output_type": "execute_result"
    }
   ],
   "source": [
    "logmodel1 = LogisticRegression (solver = 'newton-cg') #initialize\n",
    "logmodel1.fit(x_train1, y_train1) #fit"
   ]
  },
  {
   "cell_type": "code",
   "execution_count": 8,
   "id": "7b28a4d8-564d-4a8e-8ae7-cf1aaf01b172",
   "metadata": {},
   "outputs": [
    {
     "data": {
      "text/plain": [
       "array([[-3.54034753e-03, -8.17601679e-02, -1.86818722e-01,\n",
       "        -2.08513116e-02,  8.59171269e-03,  2.87667431e-01,\n",
       "        -5.83888646e-03, -8.00411556e-03, -4.73190300e-02,\n",
       "        -5.63486886e-02, -4.76979589e-02, -4.99063469e-02,\n",
       "        -3.35918928e-02,  4.43030119e-02,  9.42026357e-05,\n",
       "        -5.52150885e-05,  9.37204895e-05,  8.25011551e-06,\n",
       "        -8.68233365e-05, -2.19823042e-02,  2.55155137e-01,\n",
       "         1.12665456e-01, -1.82024283e-01,  1.18594586e-01]])"
      ]
     },
     "execution_count": 8,
     "metadata": {},
     "output_type": "execute_result"
    }
   ],
   "source": [
    "logmodel1.intercept_ ##b0\n",
    "\n",
    "logmodel1.coef_ #b1"
   ]
  },
  {
   "cell_type": "code",
   "execution_count": 9,
   "id": "ecb3f662-fbed-4616-9eb1-dd0938887645",
   "metadata": {},
   "outputs": [],
   "source": [
    "probalities1 = logmodel1.predict_proba(x_test1)\n",
    "y_pred1 = logmodel1.predict(x_test1)"
   ]
  },
  {
   "cell_type": "code",
   "execution_count": 10,
   "id": "a033dbe1-cb20-47f8-8a0f-ca5617d50bdb",
   "metadata": {},
   "outputs": [
    {
     "data": {
      "text/plain": [
       "array([[30356,     0],\n",
       "       [  406,     0]])"
      ]
     },
     "execution_count": 10,
     "metadata": {},
     "output_type": "execute_result"
    }
   ],
   "source": [
    "#Confusion Matrix\n",
    "confusion_matrix1 = confusion_matrix(y_test1, y_pred1)\n",
    "confusion_matrix1"
   ]
  },
  {
   "cell_type": "code",
   "execution_count": 12,
   "id": "2a4a0244-f65e-445c-82bd-8041ad1ec851",
   "metadata": {},
   "outputs": [
    {
     "data": {
      "text/plain": [
       "Text(0.5, 15.0, 'Predicted label')"
      ]
     },
     "execution_count": 12,
     "metadata": {},
     "output_type": "execute_result"
    },
    {
     "data": {
      "image/png": "[encoded data removed]",
      "text/plain": [
       "<Figure size 432x288 with 2 Axes>"
      ]
     },
     "metadata": {
      "needs_background": "light"
     },
     "output_type": "display_data"
    }
   ],
   "source": [
    "# create heatmap\n",
    "sns.heatmap(pd.DataFrame(confusion_matrix1), annot=True, cmap=\"YlGnBu\" ,fmt='g')\n",
    "plt.tight_layout()\n",
    "plt.title('Confusion matrix', y=1.1)\n",
    "plt.ylabel('Actual label')\n",
    "plt.xlabel('Predicted label')"
   ]
  },
  {
   "cell_type": "code",
   "execution_count": 14,
   "id": "0b345b86-54c7-4091-95c5-d0810c579706",
   "metadata": {},
   "outputs": [
    {
     "name": "stdout",
     "output_type": "stream",
     "text": [
      "              precision    recall  f1-score   support\n",
      "\n",
      "           0       0.99      1.00      0.99     30356\n",
      "           1       0.00      0.00      0.00       406\n",
      "\n",
      "    accuracy                           0.99     30762\n",
      "   macro avg       0.49      0.50      0.50     30762\n",
      "weighted avg       0.97      0.99      0.98     30762\n",
      "\n"
     ]
    },
    {
     "name": "stderr",
     "output_type": "stream",
     "text": [
      "/Users/jingu/opt/anaconda3/lib/python3.9/site-packages/sklearn/metrics/_classification.py:1344: UndefinedMetricWarning: Precision and F-score are ill-defined and being set to 0.0 in labels with no predicted samples. Use `zero_division` parameter to control this behavior.\n",
      "  _warn_prf(average, modifier, msg_start, len(result))\n",
      "/Users/jingu/opt/anaconda3/lib/python3.9/site-packages/sklearn/metrics/_classification.py:1344: UndefinedMetricWarning: Precision and F-score are ill-defined and being set to 0.0 in labels with no predicted samples. Use `zero_division` parameter to control this behavior.\n",
      "  _warn_prf(average, modifier, msg_start, len(result))\n",
      "/Users/jingu/opt/anaconda3/lib/python3.9/site-packages/sklearn/metrics/_classification.py:1344: UndefinedMetricWarning: Precision and F-score are ill-defined and being set to 0.0 in labels with no predicted samples. Use `zero_division` parameter to control this behavior.\n",
      "  _warn_prf(average, modifier, msg_start, len(result))\n"
     ]
    }
   ],
   "source": [
    "print(classification_report(y_test1, y_pred1))"
   ]
  },
  {
   "cell_type": "code",
   "execution_count": 18,
   "id": "d6e8f0b1-bc55-4765-a2f2-0ca74b5783da",
   "metadata": {},
   "outputs": [
    {
     "data": {
      "text/plain": [
       "0.9868018984461349"
      ]
     },
     "execution_count": 18,
     "metadata": {},
     "output_type": "execute_result"
    }
   ],
   "source": [
    "logaccuracy = accuracy_score(y_test1, y_pred1)\n",
    "logaccuracy"
   ]
  },
  {
   "cell_type": "code",
   "execution_count": 74,
   "id": "12dc5fef-1aaa-4563-b28f-19a9e01fcbf7",
   "metadata": {},
   "outputs": [
    {
     "data": {
      "text/plain": [
       "{'cust_age': 0.0035403475281622723,\n",
       " 'cust_profession': 0.08176016791356527,\n",
       " 'gender': 0.186818721939372,\n",
       " 'hhld_size': 0.02085131159264055,\n",
       " 'marital_status': 0.008591712691018263,\n",
       " 'residence_status': 0.2876674314907503,\n",
       " 'state': 0.005838886459602872,\n",
       " 'days_since_last_visit': 0.008004115562840461,\n",
       " 'months_since_first_purch': 0.047319029961858994,\n",
       " 'num_apparel_L6M': 0.05634868864556004,\n",
       " 'num_elec_L6M': 0.047697958924276,\n",
       " 'num_haba_L6M': 0.049906346924087526,\n",
       " 'num_hw_L6M': 0.03359189280329918,\n",
       " 'total_num_purch_L6M': 0.04430301188984769,\n",
       " 'dollars_apparel_L6M': 9.420263569319443e-05,\n",
       " 'dollars_elec_L6M': 5.521508846380333e-05,\n",
       " 'dollars_haba_L6M': 9.372048950559723e-05,\n",
       " 'dollars_hw_L6M': 8.250115505037329e-06,\n",
       " 'total_dollars_L6M': 8.682333646525517e-05,\n",
       " 'basket_margin': 0.021982304197575388,\n",
       " 'margin_hw': 0.25515513651417693,\n",
       " 'margin_elec': 0.11266545621990294,\n",
       " 'margin_haba': 0.1820242830666247,\n",
       " 'margin_apparel': 0.11859458607567358}"
      ]
     },
     "execution_count": 74,
     "metadata": {},
     "output_type": "execute_result"
    }
   ],
   "source": [
    "feature_importance = dict(zip(x1.columns, abs(logmodel1.coef_[0])))\n",
    "feature_importance"
   ]
  },
  {
   "cell_type": "code",
   "execution_count": 76,
   "id": "f23c8db7-948b-4444-af72-81484e52f561",
   "metadata": {},
   "outputs": [
    {
     "data": {
      "text/plain": [
       "{'residence_status': 0.2876674314907503,\n",
       " 'margin_hw': 0.25515513651417693,\n",
       " 'gender': 0.186818721939372,\n",
       " 'margin_haba': 0.1820242830666247,\n",
       " 'margin_apparel': 0.11859458607567358,\n",
       " 'margin_elec': 0.11266545621990294,\n",
       " 'cust_profession': 0.08176016791356527,\n",
       " 'num_apparel_L6M': 0.05634868864556004,\n",
       " 'num_haba_L6M': 0.049906346924087526,\n",
       " 'num_elec_L6M': 0.047697958924276,\n",
       " 'months_since_first_purch': 0.047319029961858994,\n",
       " 'total_num_purch_L6M': 0.04430301188984769,\n",
       " 'num_hw_L6M': 0.03359189280329918,\n",
       " 'basket_margin': 0.021982304197575388,\n",
       " 'hhld_size': 0.02085131159264055,\n",
       " 'marital_status': 0.008591712691018263,\n",
       " 'days_since_last_visit': 0.008004115562840461,\n",
       " 'state': 0.005838886459602872,\n",
       " 'cust_age': 0.0035403475281622723,\n",
       " 'dollars_apparel_L6M': 9.420263569319443e-05,\n",
       " 'dollars_haba_L6M': 9.372048950559723e-05,\n",
       " 'total_dollars_L6M': 8.682333646525517e-05,\n",
       " 'dollars_elec_L6M': 5.521508846380333e-05,\n",
       " 'dollars_hw_L6M': 8.250115505037329e-06}"
      ]
     },
     "execution_count": 76,
     "metadata": {},
     "output_type": "execute_result"
    }
   ],
   "source": [
    "sorted_feature_importance = {k: v for k, v in sorted(feature_importance.items(), key=lambda item: item[1], reverse=True)}\n",
    "sorted_feature_importance"
   ]
  },
  {
   "cell_type": "markdown",
   "id": "02e17e2e-ac42-432a-840c-e83538119acf",
   "metadata": {
    "tags": []
   },
   "source": [
    "#### Logistic Regression Conclusion"
   ]
  },
  {
   "cell_type": "markdown",
   "id": "21715029-e470-4faf-bbe0-98b81bd6ab43",
   "metadata": {},
   "source": [
    "The confusion matrix you provided indicates that the logistic regression model is not doing a good job of predicting response to promotion based on other variables in the dataset. The matrix shows:\n",
    "\n",
    "30,356 True Negatives (TN): The model correctly predicted that these customers would not respond to the promotion.\n",
    "0 False Positives (FP): The model predicted that these customers would respond to the promotion, but they did not.\n",
    "406 False Negatives (FN): The model predicted that these customers would not respond to the promotion, but they did.\n",
    "0 True Positives (TP): The model correctly predicted that these customers would respond to the promotion.\n",
    "The model seems to be biased towards predicting that customers will not respond to the promotion, as it has not identified any True Positives or False Positives. This indicates that the model is not capturing the nuances in the data that lead to a positive response. There could be several reasons for this, such as the model being too simplistic, the features not being informative enough, or class imbalance in the dataset.\n",
    "\n",
    "To improve the model, you can consider the following approaches:\n",
    "\n",
    "Feature Engineering: Create new features or transform existing ones to better capture the relationships in the data.\n",
    "Feature Selection: Identify and select the most important features to improve the model's performance.\n",
    "Try different models: Experiment with other machine learning models such as decision trees, random forests, or gradient boosting machines.\n",
    "Handle class imbalance: If there is a significant class imbalance in the dataset, you can try using techniques such as oversampling the minority class, undersampling the majority class, or using Synthetic Minority Over-sampling Technique (SMOTE).\n",
    "Cross-validation: Use cross-validation to better estimate the model's performance on unseen data and prevent overfitting.\n",
    "To better interpret the findings of the logistic regression, you should look at the coefficients of the model, which can help you understand the relationship between the predictor variables and the response variable. However, given the poor performance of the model, it might not provide meaningful insights at this point. Focus on improving the model before analyzing the findings from the logistic regression."
   ]
  },
  {
   "cell_type": "markdown",
   "id": "108d4d0c-e974-48ee-b4d2-afbf791727ac",
   "metadata": {
    "jp-MarkdownHeadingCollapsed": true,
    "tags": []
   },
   "source": [
    "# Feature Engineering/RFE"
   ]
  },
  {
   "cell_type": "markdown",
   "id": "45be6082-9b9c-4fc0-8f54-558fe0702ed5",
   "metadata": {},
   "source": [
    "### Had tried feature engineering but wwasn't able to fully imlement it into final model"
   ]
  },
  {
   "cell_type": "code",
   "execution_count": 5,
   "id": "b133291e-696e-4a29-a2f5-736828bef512",
   "metadata": {},
   "outputs": [],
   "source": [
    "# Interaction features\n",
    "df['avg_spending_apparel'] = df['dollars_apparel_L6M'] / df['num_apparel_L6M']\n",
    "df['avg_spending_elec'] = df['dollars_elec_L6M'] / df['num_elec_L6M']\n",
    "df['avg_spending_haba'] = df['dollars_haba_L6M'] / df['num_haba_L6M']\n",
    "df['avg_spending_hw'] = df['dollars_hw_L6M'] / df['num_hw_L6M']\n",
    "df['avg_total_spending'] = df['total_dollars_L6M'] / df['total_num_purch_L6M']"
   ]
  },
  {
   "cell_type": "code",
   "execution_count": 6,
   "id": "a47c6b57-1dba-43aa-adeb-e449528e4e72",
   "metadata": {},
   "outputs": [],
   "source": [
    "# Ratio features\n",
    "df['proportion_spending_apparel'] = df['dollars_apparel_L6M'] / df['total_dollars_L6M']\n",
    "df['proportion_spending_elec'] = df['dollars_elec_L6M'] / df['total_dollars_L6M']\n",
    "df['proportion_spending_haba'] = df['dollars_haba_L6M'] / df['total_dollars_L6M']\n",
    "df['proportion_spending_hw'] = df['dollars_hw_L6M'] / df['total_dollars_L6M']"
   ]
  },
  {
   "cell_type": "code",
   "execution_count": 7,
   "id": "1e672c7b-9089-45fe-b0a7-a719668287a3",
   "metadata": {},
   "outputs": [],
   "source": [
    "# Aggregate features\n",
    "df['total_num_purch_categories_L6M'] = df[['num_apparel_L6M', 'num_elec_L6M', 'num_haba_L6M', 'num_hw_L6M']].gt(0).sum(axis=1)\n",
    "df['total_margin_L6M'] = df['total_dollars_L6M'] * df['basket_margin']\n"
   ]
  },
  {
   "cell_type": "code",
   "execution_count": 8,
   "id": "3416ca56-20a0-4f06-9bc4-fbe6fa010360",
   "metadata": {},
   "outputs": [
    {
     "data": {
      "text/html": [
       "<div>\n",
       "<style scoped>\n",
       "    .dataframe tbody tr th:only-of-type {\n",
       "        vertical-align: middle;\n",
       "    }\n",
       "\n",
       "    .dataframe tbody tr th {\n",
       "        vertical-align: top;\n",
       "    }\n",
       "\n",
       "    .dataframe thead th {\n",
       "        text-align: right;\n",
       "    }\n",
       "</style>\n",
       "<table border=\"1\" class=\"dataframe\">\n",
       "  <thead>\n",
       "    <tr style=\"text-align: right;\">\n",
       "      <th></th>\n",
       "      <th>cust_age</th>\n",
       "      <th>cust_profession</th>\n",
       "      <th>gender</th>\n",
       "      <th>hhld_size</th>\n",
       "      <th>marital_status</th>\n",
       "      <th>residence_status</th>\n",
       "      <th>state</th>\n",
       "      <th>response_flag</th>\n",
       "      <th>days_since_last_visit</th>\n",
       "      <th>months_since_first_purch</th>\n",
       "      <th>...</th>\n",
       "      <th>avg_spending_elec</th>\n",
       "      <th>avg_spending_haba</th>\n",
       "      <th>avg_spending_hw</th>\n",
       "      <th>avg_total_spending</th>\n",
       "      <th>proportion_spending_apparel</th>\n",
       "      <th>proportion_spending_elec</th>\n",
       "      <th>proportion_spending_haba</th>\n",
       "      <th>proportion_spending_hw</th>\n",
       "      <th>total_num_purch_categories_L6M</th>\n",
       "      <th>total_margin_L6M</th>\n",
       "    </tr>\n",
       "  </thead>\n",
       "  <tbody>\n",
       "    <tr>\n",
       "      <th>0</th>\n",
       "      <td>28</td>\n",
       "      <td>0</td>\n",
       "      <td>0</td>\n",
       "      <td>12</td>\n",
       "      <td>0</td>\n",
       "      <td>0</td>\n",
       "      <td>0</td>\n",
       "      <td>0</td>\n",
       "      <td>205</td>\n",
       "      <td>24</td>\n",
       "      <td>...</td>\n",
       "      <td>NaN</td>\n",
       "      <td>NaN</td>\n",
       "      <td>NaN</td>\n",
       "      <td>NaN</td>\n",
       "      <td>NaN</td>\n",
       "      <td>NaN</td>\n",
       "      <td>NaN</td>\n",
       "      <td>NaN</td>\n",
       "      <td>0</td>\n",
       "      <td>0.000</td>\n",
       "    </tr>\n",
       "    <tr>\n",
       "      <th>1</th>\n",
       "      <td>54</td>\n",
       "      <td>1</td>\n",
       "      <td>0</td>\n",
       "      <td>10</td>\n",
       "      <td>0</td>\n",
       "      <td>0</td>\n",
       "      <td>1</td>\n",
       "      <td>0</td>\n",
       "      <td>206</td>\n",
       "      <td>56</td>\n",
       "      <td>...</td>\n",
       "      <td>NaN</td>\n",
       "      <td>NaN</td>\n",
       "      <td>NaN</td>\n",
       "      <td>NaN</td>\n",
       "      <td>NaN</td>\n",
       "      <td>NaN</td>\n",
       "      <td>NaN</td>\n",
       "      <td>NaN</td>\n",
       "      <td>0</td>\n",
       "      <td>0.000</td>\n",
       "    </tr>\n",
       "    <tr>\n",
       "      <th>2</th>\n",
       "      <td>39</td>\n",
       "      <td>2</td>\n",
       "      <td>1</td>\n",
       "      <td>7</td>\n",
       "      <td>0</td>\n",
       "      <td>0</td>\n",
       "      <td>2</td>\n",
       "      <td>0</td>\n",
       "      <td>206</td>\n",
       "      <td>13</td>\n",
       "      <td>...</td>\n",
       "      <td>NaN</td>\n",
       "      <td>NaN</td>\n",
       "      <td>NaN</td>\n",
       "      <td>NaN</td>\n",
       "      <td>NaN</td>\n",
       "      <td>NaN</td>\n",
       "      <td>NaN</td>\n",
       "      <td>NaN</td>\n",
       "      <td>0</td>\n",
       "      <td>0.000</td>\n",
       "    </tr>\n",
       "    <tr>\n",
       "      <th>3</th>\n",
       "      <td>40</td>\n",
       "      <td>1</td>\n",
       "      <td>0</td>\n",
       "      <td>6</td>\n",
       "      <td>0</td>\n",
       "      <td>0</td>\n",
       "      <td>3</td>\n",
       "      <td>0</td>\n",
       "      <td>120</td>\n",
       "      <td>4</td>\n",
       "      <td>...</td>\n",
       "      <td>NaN</td>\n",
       "      <td>NaN</td>\n",
       "      <td>NaN</td>\n",
       "      <td>NaN</td>\n",
       "      <td>NaN</td>\n",
       "      <td>NaN</td>\n",
       "      <td>NaN</td>\n",
       "      <td>NaN</td>\n",
       "      <td>0</td>\n",
       "      <td>0.000</td>\n",
       "    </tr>\n",
       "    <tr>\n",
       "      <th>4</th>\n",
       "      <td>40</td>\n",
       "      <td>3</td>\n",
       "      <td>0</td>\n",
       "      <td>6</td>\n",
       "      <td>0</td>\n",
       "      <td>0</td>\n",
       "      <td>4</td>\n",
       "      <td>0</td>\n",
       "      <td>204</td>\n",
       "      <td>8</td>\n",
       "      <td>...</td>\n",
       "      <td>NaN</td>\n",
       "      <td>NaN</td>\n",
       "      <td>NaN</td>\n",
       "      <td>NaN</td>\n",
       "      <td>NaN</td>\n",
       "      <td>NaN</td>\n",
       "      <td>NaN</td>\n",
       "      <td>NaN</td>\n",
       "      <td>0</td>\n",
       "      <td>0.000</td>\n",
       "    </tr>\n",
       "    <tr>\n",
       "      <th>...</th>\n",
       "      <td>...</td>\n",
       "      <td>...</td>\n",
       "      <td>...</td>\n",
       "      <td>...</td>\n",
       "      <td>...</td>\n",
       "      <td>...</td>\n",
       "      <td>...</td>\n",
       "      <td>...</td>\n",
       "      <td>...</td>\n",
       "      <td>...</td>\n",
       "      <td>...</td>\n",
       "      <td>...</td>\n",
       "      <td>...</td>\n",
       "      <td>...</td>\n",
       "      <td>...</td>\n",
       "      <td>...</td>\n",
       "      <td>...</td>\n",
       "      <td>...</td>\n",
       "      <td>...</td>\n",
       "      <td>...</td>\n",
       "      <td>...</td>\n",
       "    </tr>\n",
       "    <tr>\n",
       "      <th>102534</th>\n",
       "      <td>24</td>\n",
       "      <td>0</td>\n",
       "      <td>0</td>\n",
       "      <td>1</td>\n",
       "      <td>3</td>\n",
       "      <td>0</td>\n",
       "      <td>16</td>\n",
       "      <td>0</td>\n",
       "      <td>205</td>\n",
       "      <td>14</td>\n",
       "      <td>...</td>\n",
       "      <td>699.0</td>\n",
       "      <td>560.333333</td>\n",
       "      <td>719.000000</td>\n",
       "      <td>599.428571</td>\n",
       "      <td>0.094852</td>\n",
       "      <td>0.333174</td>\n",
       "      <td>0.400620</td>\n",
       "      <td>0.171354</td>\n",
       "      <td>4</td>\n",
       "      <td>58517.416</td>\n",
       "    </tr>\n",
       "    <tr>\n",
       "      <th>102535</th>\n",
       "      <td>56</td>\n",
       "      <td>1</td>\n",
       "      <td>0</td>\n",
       "      <td>1</td>\n",
       "      <td>0</td>\n",
       "      <td>2</td>\n",
       "      <td>16</td>\n",
       "      <td>0</td>\n",
       "      <td>208</td>\n",
       "      <td>16</td>\n",
       "      <td>...</td>\n",
       "      <td>NaN</td>\n",
       "      <td>466.000000</td>\n",
       "      <td>NaN</td>\n",
       "      <td>753.000000</td>\n",
       "      <td>0.000000</td>\n",
       "      <td>0.000000</td>\n",
       "      <td>0.618858</td>\n",
       "      <td>0.000000</td>\n",
       "      <td>1</td>\n",
       "      <td>11359.758</td>\n",
       "    </tr>\n",
       "    <tr>\n",
       "      <th>102536</th>\n",
       "      <td>58</td>\n",
       "      <td>1</td>\n",
       "      <td>0</td>\n",
       "      <td>1</td>\n",
       "      <td>1</td>\n",
       "      <td>2</td>\n",
       "      <td>16</td>\n",
       "      <td>0</td>\n",
       "      <td>207</td>\n",
       "      <td>15</td>\n",
       "      <td>...</td>\n",
       "      <td>NaN</td>\n",
       "      <td>201.000000</td>\n",
       "      <td>167.266667</td>\n",
       "      <td>169.875000</td>\n",
       "      <td>0.000000</td>\n",
       "      <td>0.000000</td>\n",
       "      <td>0.073951</td>\n",
       "      <td>0.923105</td>\n",
       "      <td>2</td>\n",
       "      <td>21483.072</td>\n",
       "    </tr>\n",
       "    <tr>\n",
       "      <th>102537</th>\n",
       "      <td>36</td>\n",
       "      <td>5</td>\n",
       "      <td>0</td>\n",
       "      <td>1</td>\n",
       "      <td>3</td>\n",
       "      <td>0</td>\n",
       "      <td>16</td>\n",
       "      <td>0</td>\n",
       "      <td>213</td>\n",
       "      <td>15</td>\n",
       "      <td>...</td>\n",
       "      <td>NaN</td>\n",
       "      <td>150.000000</td>\n",
       "      <td>NaN</td>\n",
       "      <td>173.800000</td>\n",
       "      <td>0.154200</td>\n",
       "      <td>0.000000</td>\n",
       "      <td>0.690449</td>\n",
       "      <td>0.000000</td>\n",
       "      <td>2</td>\n",
       "      <td>11470.800</td>\n",
       "    </tr>\n",
       "    <tr>\n",
       "      <th>102538</th>\n",
       "      <td>38</td>\n",
       "      <td>1</td>\n",
       "      <td>0</td>\n",
       "      <td>1</td>\n",
       "      <td>0</td>\n",
       "      <td>0</td>\n",
       "      <td>16</td>\n",
       "      <td>0</td>\n",
       "      <td>214</td>\n",
       "      <td>15</td>\n",
       "      <td>...</td>\n",
       "      <td>NaN</td>\n",
       "      <td>NaN</td>\n",
       "      <td>NaN</td>\n",
       "      <td>NaN</td>\n",
       "      <td>NaN</td>\n",
       "      <td>NaN</td>\n",
       "      <td>NaN</td>\n",
       "      <td>NaN</td>\n",
       "      <td>0</td>\n",
       "      <td>0.000</td>\n",
       "    </tr>\n",
       "  </tbody>\n",
       "</table>\n",
       "<p>102539 rows × 37 columns</p>\n",
       "</div>"
      ],
      "text/plain": [
       "        cust_age  cust_profession  gender  hhld_size  marital_status  \\\n",
       "0             28                0       0         12               0   \n",
       "1             54                1       0         10               0   \n",
       "2             39                2       1          7               0   \n",
       "3             40                1       0          6               0   \n",
       "4             40                3       0          6               0   \n",
       "...          ...              ...     ...        ...             ...   \n",
       "102534        24                0       0          1               3   \n",
       "102535        56                1       0          1               0   \n",
       "102536        58                1       0          1               1   \n",
       "102537        36                5       0          1               3   \n",
       "102538        38                1       0          1               0   \n",
       "\n",
       "        residence_status  state  response_flag  days_since_last_visit  \\\n",
       "0                      0      0              0                    205   \n",
       "1                      0      1              0                    206   \n",
       "2                      0      2              0                    206   \n",
       "3                      0      3              0                    120   \n",
       "4                      0      4              0                    204   \n",
       "...                  ...    ...            ...                    ...   \n",
       "102534                 0     16              0                    205   \n",
       "102535                 2     16              0                    208   \n",
       "102536                 2     16              0                    207   \n",
       "102537                 0     16              0                    213   \n",
       "102538                 0     16              0                    214   \n",
       "\n",
       "        months_since_first_purch  ...  avg_spending_elec  avg_spending_haba  \\\n",
       "0                             24  ...                NaN                NaN   \n",
       "1                             56  ...                NaN                NaN   \n",
       "2                             13  ...                NaN                NaN   \n",
       "3                              4  ...                NaN                NaN   \n",
       "4                              8  ...                NaN                NaN   \n",
       "...                          ...  ...                ...                ...   \n",
       "102534                        14  ...              699.0         560.333333   \n",
       "102535                        16  ...                NaN         466.000000   \n",
       "102536                        15  ...                NaN         201.000000   \n",
       "102537                        15  ...                NaN         150.000000   \n",
       "102538                        15  ...                NaN                NaN   \n",
       "\n",
       "        avg_spending_hw  avg_total_spending  proportion_spending_apparel  \\\n",
       "0                   NaN                 NaN                          NaN   \n",
       "1                   NaN                 NaN                          NaN   \n",
       "2                   NaN                 NaN                          NaN   \n",
       "3                   NaN                 NaN                          NaN   \n",
       "4                   NaN                 NaN                          NaN   \n",
       "...                 ...                 ...                          ...   \n",
       "102534       719.000000          599.428571                     0.094852   \n",
       "102535              NaN          753.000000                     0.000000   \n",
       "102536       167.266667          169.875000                     0.000000   \n",
       "102537              NaN          173.800000                     0.154200   \n",
       "102538              NaN                 NaN                          NaN   \n",
       "\n",
       "        proportion_spending_elec  proportion_spending_haba  \\\n",
       "0                            NaN                       NaN   \n",
       "1                            NaN                       NaN   \n",
       "2                            NaN                       NaN   \n",
       "3                            NaN                       NaN   \n",
       "4                            NaN                       NaN   \n",
       "...                          ...                       ...   \n",
       "102534                  0.333174                  0.400620   \n",
       "102535                  0.000000                  0.618858   \n",
       "102536                  0.000000                  0.073951   \n",
       "102537                  0.000000                  0.690449   \n",
       "102538                       NaN                       NaN   \n",
       "\n",
       "        proportion_spending_hw  total_num_purch_categories_L6M  \\\n",
       "0                          NaN                               0   \n",
       "1                          NaN                               0   \n",
       "2                          NaN                               0   \n",
       "3                          NaN                               0   \n",
       "4                          NaN                               0   \n",
       "...                        ...                             ...   \n",
       "102534                0.171354                               4   \n",
       "102535                0.000000                               1   \n",
       "102536                0.923105                               2   \n",
       "102537                0.000000                               2   \n",
       "102538                     NaN                               0   \n",
       "\n",
       "        total_margin_L6M  \n",
       "0                  0.000  \n",
       "1                  0.000  \n",
       "2                  0.000  \n",
       "3                  0.000  \n",
       "4                  0.000  \n",
       "...                  ...  \n",
       "102534         58517.416  \n",
       "102535         11359.758  \n",
       "102536         21483.072  \n",
       "102537         11470.800  \n",
       "102538             0.000  \n",
       "\n",
       "[102539 rows x 37 columns]"
      ]
     },
     "execution_count": 8,
     "metadata": {},
     "output_type": "execute_result"
    }
   ],
   "source": [
    "df"
   ]
  },
  {
   "cell_type": "code",
   "execution_count": 9,
   "id": "bb801de7-846e-4cd7-99ec-76edb680c2af",
   "metadata": {},
   "outputs": [
    {
     "data": {
      "text/html": [
       "<div>\n",
       "<style scoped>\n",
       "    .dataframe tbody tr th:only-of-type {\n",
       "        vertical-align: middle;\n",
       "    }\n",
       "\n",
       "    .dataframe tbody tr th {\n",
       "        vertical-align: top;\n",
       "    }\n",
       "\n",
       "    .dataframe thead th {\n",
       "        text-align: right;\n",
       "    }\n",
       "</style>\n",
       "<table border=\"1\" class=\"dataframe\">\n",
       "  <thead>\n",
       "    <tr style=\"text-align: right;\">\n",
       "      <th></th>\n",
       "      <th>cust_age</th>\n",
       "      <th>cust_profession</th>\n",
       "      <th>gender</th>\n",
       "      <th>hhld_size</th>\n",
       "      <th>marital_status</th>\n",
       "      <th>residence_status</th>\n",
       "      <th>state</th>\n",
       "      <th>response_flag</th>\n",
       "      <th>days_since_last_visit</th>\n",
       "      <th>months_since_first_purch</th>\n",
       "      <th>...</th>\n",
       "      <th>avg_spending_elec</th>\n",
       "      <th>avg_spending_haba</th>\n",
       "      <th>avg_spending_hw</th>\n",
       "      <th>avg_total_spending</th>\n",
       "      <th>proportion_spending_apparel</th>\n",
       "      <th>proportion_spending_elec</th>\n",
       "      <th>proportion_spending_haba</th>\n",
       "      <th>proportion_spending_hw</th>\n",
       "      <th>total_num_purch_categories_L6M</th>\n",
       "      <th>total_margin_L6M</th>\n",
       "    </tr>\n",
       "  </thead>\n",
       "  <tbody>\n",
       "    <tr>\n",
       "      <th>0</th>\n",
       "      <td>28</td>\n",
       "      <td>0</td>\n",
       "      <td>0</td>\n",
       "      <td>12</td>\n",
       "      <td>0</td>\n",
       "      <td>0</td>\n",
       "      <td>0</td>\n",
       "      <td>0</td>\n",
       "      <td>205</td>\n",
       "      <td>24</td>\n",
       "      <td>...</td>\n",
       "      <td>0.0</td>\n",
       "      <td>0.000000</td>\n",
       "      <td>0.000000</td>\n",
       "      <td>0.000000</td>\n",
       "      <td>0.000000</td>\n",
       "      <td>0.000000</td>\n",
       "      <td>0.000000</td>\n",
       "      <td>0.000000</td>\n",
       "      <td>0</td>\n",
       "      <td>0.000</td>\n",
       "    </tr>\n",
       "    <tr>\n",
       "      <th>1</th>\n",
       "      <td>54</td>\n",
       "      <td>1</td>\n",
       "      <td>0</td>\n",
       "      <td>10</td>\n",
       "      <td>0</td>\n",
       "      <td>0</td>\n",
       "      <td>1</td>\n",
       "      <td>0</td>\n",
       "      <td>206</td>\n",
       "      <td>56</td>\n",
       "      <td>...</td>\n",
       "      <td>0.0</td>\n",
       "      <td>0.000000</td>\n",
       "      <td>0.000000</td>\n",
       "      <td>0.000000</td>\n",
       "      <td>0.000000</td>\n",
       "      <td>0.000000</td>\n",
       "      <td>0.000000</td>\n",
       "      <td>0.000000</td>\n",
       "      <td>0</td>\n",
       "      <td>0.000</td>\n",
       "    </tr>\n",
       "    <tr>\n",
       "      <th>2</th>\n",
       "      <td>39</td>\n",
       "      <td>2</td>\n",
       "      <td>1</td>\n",
       "      <td>7</td>\n",
       "      <td>0</td>\n",
       "      <td>0</td>\n",
       "      <td>2</td>\n",
       "      <td>0</td>\n",
       "      <td>206</td>\n",
       "      <td>13</td>\n",
       "      <td>...</td>\n",
       "      <td>0.0</td>\n",
       "      <td>0.000000</td>\n",
       "      <td>0.000000</td>\n",
       "      <td>0.000000</td>\n",
       "      <td>0.000000</td>\n",
       "      <td>0.000000</td>\n",
       "      <td>0.000000</td>\n",
       "      <td>0.000000</td>\n",
       "      <td>0</td>\n",
       "      <td>0.000</td>\n",
       "    </tr>\n",
       "    <tr>\n",
       "      <th>3</th>\n",
       "      <td>40</td>\n",
       "      <td>1</td>\n",
       "      <td>0</td>\n",
       "      <td>6</td>\n",
       "      <td>0</td>\n",
       "      <td>0</td>\n",
       "      <td>3</td>\n",
       "      <td>0</td>\n",
       "      <td>120</td>\n",
       "      <td>4</td>\n",
       "      <td>...</td>\n",
       "      <td>0.0</td>\n",
       "      <td>0.000000</td>\n",
       "      <td>0.000000</td>\n",
       "      <td>0.000000</td>\n",
       "      <td>0.000000</td>\n",
       "      <td>0.000000</td>\n",
       "      <td>0.000000</td>\n",
       "      <td>0.000000</td>\n",
       "      <td>0</td>\n",
       "      <td>0.000</td>\n",
       "    </tr>\n",
       "    <tr>\n",
       "      <th>4</th>\n",
       "      <td>40</td>\n",
       "      <td>3</td>\n",
       "      <td>0</td>\n",
       "      <td>6</td>\n",
       "      <td>0</td>\n",
       "      <td>0</td>\n",
       "      <td>4</td>\n",
       "      <td>0</td>\n",
       "      <td>204</td>\n",
       "      <td>8</td>\n",
       "      <td>...</td>\n",
       "      <td>0.0</td>\n",
       "      <td>0.000000</td>\n",
       "      <td>0.000000</td>\n",
       "      <td>0.000000</td>\n",
       "      <td>0.000000</td>\n",
       "      <td>0.000000</td>\n",
       "      <td>0.000000</td>\n",
       "      <td>0.000000</td>\n",
       "      <td>0</td>\n",
       "      <td>0.000</td>\n",
       "    </tr>\n",
       "    <tr>\n",
       "      <th>...</th>\n",
       "      <td>...</td>\n",
       "      <td>...</td>\n",
       "      <td>...</td>\n",
       "      <td>...</td>\n",
       "      <td>...</td>\n",
       "      <td>...</td>\n",
       "      <td>...</td>\n",
       "      <td>...</td>\n",
       "      <td>...</td>\n",
       "      <td>...</td>\n",
       "      <td>...</td>\n",
       "      <td>...</td>\n",
       "      <td>...</td>\n",
       "      <td>...</td>\n",
       "      <td>...</td>\n",
       "      <td>...</td>\n",
       "      <td>...</td>\n",
       "      <td>...</td>\n",
       "      <td>...</td>\n",
       "      <td>...</td>\n",
       "      <td>...</td>\n",
       "    </tr>\n",
       "    <tr>\n",
       "      <th>102534</th>\n",
       "      <td>24</td>\n",
       "      <td>0</td>\n",
       "      <td>0</td>\n",
       "      <td>1</td>\n",
       "      <td>3</td>\n",
       "      <td>0</td>\n",
       "      <td>16</td>\n",
       "      <td>0</td>\n",
       "      <td>205</td>\n",
       "      <td>14</td>\n",
       "      <td>...</td>\n",
       "      <td>699.0</td>\n",
       "      <td>560.333333</td>\n",
       "      <td>719.000000</td>\n",
       "      <td>599.428571</td>\n",
       "      <td>0.094852</td>\n",
       "      <td>0.333174</td>\n",
       "      <td>0.400620</td>\n",
       "      <td>0.171354</td>\n",
       "      <td>4</td>\n",
       "      <td>58517.416</td>\n",
       "    </tr>\n",
       "    <tr>\n",
       "      <th>102535</th>\n",
       "      <td>56</td>\n",
       "      <td>1</td>\n",
       "      <td>0</td>\n",
       "      <td>1</td>\n",
       "      <td>0</td>\n",
       "      <td>2</td>\n",
       "      <td>16</td>\n",
       "      <td>0</td>\n",
       "      <td>208</td>\n",
       "      <td>16</td>\n",
       "      <td>...</td>\n",
       "      <td>0.0</td>\n",
       "      <td>466.000000</td>\n",
       "      <td>0.000000</td>\n",
       "      <td>753.000000</td>\n",
       "      <td>0.000000</td>\n",
       "      <td>0.000000</td>\n",
       "      <td>0.618858</td>\n",
       "      <td>0.000000</td>\n",
       "      <td>1</td>\n",
       "      <td>11359.758</td>\n",
       "    </tr>\n",
       "    <tr>\n",
       "      <th>102536</th>\n",
       "      <td>58</td>\n",
       "      <td>1</td>\n",
       "      <td>0</td>\n",
       "      <td>1</td>\n",
       "      <td>1</td>\n",
       "      <td>2</td>\n",
       "      <td>16</td>\n",
       "      <td>0</td>\n",
       "      <td>207</td>\n",
       "      <td>15</td>\n",
       "      <td>...</td>\n",
       "      <td>0.0</td>\n",
       "      <td>201.000000</td>\n",
       "      <td>167.266667</td>\n",
       "      <td>169.875000</td>\n",
       "      <td>0.000000</td>\n",
       "      <td>0.000000</td>\n",
       "      <td>0.073951</td>\n",
       "      <td>0.923105</td>\n",
       "      <td>2</td>\n",
       "      <td>21483.072</td>\n",
       "    </tr>\n",
       "    <tr>\n",
       "      <th>102537</th>\n",
       "      <td>36</td>\n",
       "      <td>5</td>\n",
       "      <td>0</td>\n",
       "      <td>1</td>\n",
       "      <td>3</td>\n",
       "      <td>0</td>\n",
       "      <td>16</td>\n",
       "      <td>0</td>\n",
       "      <td>213</td>\n",
       "      <td>15</td>\n",
       "      <td>...</td>\n",
       "      <td>0.0</td>\n",
       "      <td>150.000000</td>\n",
       "      <td>0.000000</td>\n",
       "      <td>173.800000</td>\n",
       "      <td>0.154200</td>\n",
       "      <td>0.000000</td>\n",
       "      <td>0.690449</td>\n",
       "      <td>0.000000</td>\n",
       "      <td>2</td>\n",
       "      <td>11470.800</td>\n",
       "    </tr>\n",
       "    <tr>\n",
       "      <th>102538</th>\n",
       "      <td>38</td>\n",
       "      <td>1</td>\n",
       "      <td>0</td>\n",
       "      <td>1</td>\n",
       "      <td>0</td>\n",
       "      <td>0</td>\n",
       "      <td>16</td>\n",
       "      <td>0</td>\n",
       "      <td>214</td>\n",
       "      <td>15</td>\n",
       "      <td>...</td>\n",
       "      <td>0.0</td>\n",
       "      <td>0.000000</td>\n",
       "      <td>0.000000</td>\n",
       "      <td>0.000000</td>\n",
       "      <td>0.000000</td>\n",
       "      <td>0.000000</td>\n",
       "      <td>0.000000</td>\n",
       "      <td>0.000000</td>\n",
       "      <td>0</td>\n",
       "      <td>0.000</td>\n",
       "    </tr>\n",
       "  </tbody>\n",
       "</table>\n",
       "<p>102539 rows × 37 columns</p>\n",
       "</div>"
      ],
      "text/plain": [
       "        cust_age  cust_profession  gender  hhld_size  marital_status  \\\n",
       "0             28                0       0         12               0   \n",
       "1             54                1       0         10               0   \n",
       "2             39                2       1          7               0   \n",
       "3             40                1       0          6               0   \n",
       "4             40                3       0          6               0   \n",
       "...          ...              ...     ...        ...             ...   \n",
       "102534        24                0       0          1               3   \n",
       "102535        56                1       0          1               0   \n",
       "102536        58                1       0          1               1   \n",
       "102537        36                5       0          1               3   \n",
       "102538        38                1       0          1               0   \n",
       "\n",
       "        residence_status  state  response_flag  days_since_last_visit  \\\n",
       "0                      0      0              0                    205   \n",
       "1                      0      1              0                    206   \n",
       "2                      0      2              0                    206   \n",
       "3                      0      3              0                    120   \n",
       "4                      0      4              0                    204   \n",
       "...                  ...    ...            ...                    ...   \n",
       "102534                 0     16              0                    205   \n",
       "102535                 2     16              0                    208   \n",
       "102536                 2     16              0                    207   \n",
       "102537                 0     16              0                    213   \n",
       "102538                 0     16              0                    214   \n",
       "\n",
       "        months_since_first_purch  ...  avg_spending_elec  avg_spending_haba  \\\n",
       "0                             24  ...                0.0           0.000000   \n",
       "1                             56  ...                0.0           0.000000   \n",
       "2                             13  ...                0.0           0.000000   \n",
       "3                              4  ...                0.0           0.000000   \n",
       "4                              8  ...                0.0           0.000000   \n",
       "...                          ...  ...                ...                ...   \n",
       "102534                        14  ...              699.0         560.333333   \n",
       "102535                        16  ...                0.0         466.000000   \n",
       "102536                        15  ...                0.0         201.000000   \n",
       "102537                        15  ...                0.0         150.000000   \n",
       "102538                        15  ...                0.0           0.000000   \n",
       "\n",
       "        avg_spending_hw  avg_total_spending  proportion_spending_apparel  \\\n",
       "0              0.000000            0.000000                     0.000000   \n",
       "1              0.000000            0.000000                     0.000000   \n",
       "2              0.000000            0.000000                     0.000000   \n",
       "3              0.000000            0.000000                     0.000000   \n",
       "4              0.000000            0.000000                     0.000000   \n",
       "...                 ...                 ...                          ...   \n",
       "102534       719.000000          599.428571                     0.094852   \n",
       "102535         0.000000          753.000000                     0.000000   \n",
       "102536       167.266667          169.875000                     0.000000   \n",
       "102537         0.000000          173.800000                     0.154200   \n",
       "102538         0.000000            0.000000                     0.000000   \n",
       "\n",
       "        proportion_spending_elec  proportion_spending_haba  \\\n",
       "0                       0.000000                  0.000000   \n",
       "1                       0.000000                  0.000000   \n",
       "2                       0.000000                  0.000000   \n",
       "3                       0.000000                  0.000000   \n",
       "4                       0.000000                  0.000000   \n",
       "...                          ...                       ...   \n",
       "102534                  0.333174                  0.400620   \n",
       "102535                  0.000000                  0.618858   \n",
       "102536                  0.000000                  0.073951   \n",
       "102537                  0.000000                  0.690449   \n",
       "102538                  0.000000                  0.000000   \n",
       "\n",
       "        proportion_spending_hw  total_num_purch_categories_L6M  \\\n",
       "0                     0.000000                               0   \n",
       "1                     0.000000                               0   \n",
       "2                     0.000000                               0   \n",
       "3                     0.000000                               0   \n",
       "4                     0.000000                               0   \n",
       "...                        ...                             ...   \n",
       "102534                0.171354                               4   \n",
       "102535                0.000000                               1   \n",
       "102536                0.923105                               2   \n",
       "102537                0.000000                               2   \n",
       "102538                0.000000                               0   \n",
       "\n",
       "        total_margin_L6M  \n",
       "0                  0.000  \n",
       "1                  0.000  \n",
       "2                  0.000  \n",
       "3                  0.000  \n",
       "4                  0.000  \n",
       "...                  ...  \n",
       "102534         58517.416  \n",
       "102535         11359.758  \n",
       "102536         21483.072  \n",
       "102537         11470.800  \n",
       "102538             0.000  \n",
       "\n",
       "[102539 rows x 37 columns]"
      ]
     },
     "execution_count": 9,
     "metadata": {},
     "output_type": "execute_result"
    }
   ],
   "source": [
    "df = df.replace(np.nan, 0)\n",
    "df"
   ]
  },
  {
   "cell_type": "code",
   "execution_count": 10,
   "id": "6f6754ec-a590-49cb-b4d3-7487e67c310c",
   "metadata": {},
   "outputs": [],
   "source": [
    "from sklearn.feature_selection import RFE"
   ]
  },
  {
   "cell_type": "code",
   "execution_count": 11,
   "id": "66f0af30-9381-4297-a869-d988b2c48753",
   "metadata": {},
   "outputs": [],
   "source": [
    "# Prepare the dataset\n",
    "X = df.drop(columns=['response_flag','Clusters'])  # Drop the target variable from the feature set\n",
    "y = df['response_flag']\n"
   ]
  },
  {
   "cell_type": "code",
   "execution_count": 12,
   "id": "42568d2a-5701-4fe2-a19f-d6a8e33a31af",
   "metadata": {},
   "outputs": [],
   "source": [
    "# Scale the features\n",
    "scaler = StandardScaler()\n",
    "X_scaled = scaler.fit_transform(X)"
   ]
  },
  {
   "cell_type": "code",
   "execution_count": 13,
   "id": "9f28f68b-35b3-4e81-98ee-184fb2e15151",
   "metadata": {},
   "outputs": [],
   "source": [
    "# Split the data into training and testing sets\n",
    "X_train, X_test, y_train, y_test = train_test_split(X_scaled, y, test_size=0.3, random_state=42)\n"
   ]
  },
  {
   "cell_type": "code",
   "execution_count": 14,
   "id": "ccf1bebb-73de-44ba-a290-e74666a7c6c9",
   "metadata": {},
   "outputs": [],
   "source": [
    "# Create the logistic regression model\n",
    "logreg = LogisticRegression(solver='newton-cg')\n"
   ]
  },
  {
   "cell_type": "code",
   "execution_count": 15,
   "id": "b97be6f0-479d-41b6-a018-c54c69269164",
   "metadata": {},
   "outputs": [
    {
     "data": {
      "text/html": [
       "<style>#sk-container-id-1 {color: black;background-color: white;}#sk-container-id-1 pre{padding: 0;}#sk-container-id-1 div.sk-toggleable {background-color: white;}#sk-container-id-1 label.sk-toggleable__label {cursor: pointer;display: block;width: 100%;margin-bottom: 0;padding: 0.3em;box-sizing: border-box;text-align: center;}#sk-container-id-1 label.sk-toggleable__label-arrow:before {content: \"▸\";float: left;margin-right: 0.25em;color: #696969;}#sk-container-id-1 label.sk-toggleable__label-arrow:hover:before {color: black;}#sk-container-id-1 div.sk-estimator:hover label.sk-toggleable__label-arrow:before {color: black;}#sk-container-id-1 div.sk-toggleable__content {max-height: 0;max-width: 0;overflow: hidden;text-align: left;background-color: #f0f8ff;}#sk-container-id-1 div.sk-toggleable__content pre {margin: 0.2em;color: black;border-radius: 0.25em;background-color: #f0f8ff;}#sk-container-id-1 input.sk-toggleable__control:checked~div.sk-toggleable__content {max-height: 200px;max-width: 100%;overflow: auto;}#sk-container-id-1 input.sk-toggleable__control:checked~label.sk-toggleable__label-arrow:before {content: \"▾\";}#sk-container-id-1 div.sk-estimator input.sk-toggleable__control:checked~label.sk-toggleable__label {background-color: #d4ebff;}#sk-container-id-1 div.sk-label input.sk-toggleable__control:checked~label.sk-toggleable__label {background-color: #d4ebff;}#sk-container-id-1 input.sk-hidden--visually {border: 0;clip: rect(1px 1px 1px 1px);clip: rect(1px, 1px, 1px, 1px);height: 1px;margin: -1px;overflow: hidden;padding: 0;position: absolute;width: 1px;}#sk-container-id-1 div.sk-estimator {font-family: monospace;background-color: #f0f8ff;border: 1px dotted black;border-radius: 0.25em;box-sizing: border-box;margin-bottom: 0.5em;}#sk-container-id-1 div.sk-estimator:hover {background-color: #d4ebff;}#sk-container-id-1 div.sk-parallel-item::after {content: \"\";width: 100%;border-bottom: 1px solid gray;flex-grow: 1;}#sk-container-id-1 div.sk-label:hover label.sk-toggleable__label {background-color: #d4ebff;}#sk-container-id-1 div.sk-serial::before {content: \"\";position: absolute;border-left: 1px solid gray;box-sizing: border-box;top: 0;bottom: 0;left: 50%;z-index: 0;}#sk-container-id-1 div.sk-serial {display: flex;flex-direction: column;align-items: center;background-color: white;padding-right: 0.2em;padding-left: 0.2em;position: relative;}#sk-container-id-1 div.sk-item {position: relative;z-index: 1;}#sk-container-id-1 div.sk-parallel {display: flex;align-items: stretch;justify-content: center;background-color: white;position: relative;}#sk-container-id-1 div.sk-item::before, #sk-container-id-1 div.sk-parallel-item::before {content: \"\";position: absolute;border-left: 1px solid gray;box-sizing: border-box;top: 0;bottom: 0;left: 50%;z-index: -1;}#sk-container-id-1 div.sk-parallel-item {display: flex;flex-direction: column;z-index: 1;position: relative;background-color: white;}#sk-container-id-1 div.sk-parallel-item:first-child::after {align-self: flex-end;width: 50%;}#sk-container-id-1 div.sk-parallel-item:last-child::after {align-self: flex-start;width: 50%;}#sk-container-id-1 div.sk-parallel-item:only-child::after {width: 0;}#sk-container-id-1 div.sk-dashed-wrapped {border: 1px dashed gray;margin: 0 0.4em 0.5em 0.4em;box-sizing: border-box;padding-bottom: 0.4em;background-color: white;}#sk-container-id-1 div.sk-label label {font-family: monospace;font-weight: bold;display: inline-block;line-height: 1.2em;}#sk-container-id-1 div.sk-label-container {text-align: center;}#sk-container-id-1 div.sk-container {/* jupyter's `normalize.less` sets `[hidden] { display: none; }` but bootstrap.min.css set `[hidden] { display: none !important; }` so we also need the `!important` here to be able to override the default hidden behavior on the sphinx rendered scikit-learn.org. See: https://github.com/scikit-learn/scikit-learn/issues/21755 */display: inline-block !important;position: relative;}#sk-container-id-1 div.sk-text-repr-fallback {display: none;}</style><div id=\"sk-container-id-1\" class=\"sk-top-container\"><div class=\"sk-text-repr-fallback\"><pre>RFE(estimator=LogisticRegression(solver=&#x27;newton-cg&#x27;), n_features_to_select=12)</pre><b>In a Jupyter environment, please rerun this cell to show the HTML representation or trust the notebook. <br />On GitHub, the HTML representation is unable to render, please try loading this page with nbviewer.org.</b></div><div class=\"sk-container\" hidden><div class=\"sk-item sk-dashed-wrapped\"><div class=\"sk-label-container\"><div class=\"sk-label sk-toggleable\"><input class=\"sk-toggleable__control sk-hidden--visually\" id=\"sk-estimator-id-1\" type=\"checkbox\" ><label for=\"sk-estimator-id-1\" class=\"sk-toggleable__label sk-toggleable__label-arrow\">RFE</label><div class=\"sk-toggleable__content\"><pre>RFE(estimator=LogisticRegression(solver=&#x27;newton-cg&#x27;), n_features_to_select=12)</pre></div></div></div><div class=\"sk-parallel\"><div class=\"sk-parallel-item\"><div class=\"sk-item\"><div class=\"sk-label-container\"><div class=\"sk-label sk-toggleable\"><input class=\"sk-toggleable__control sk-hidden--visually\" id=\"sk-estimator-id-2\" type=\"checkbox\" ><label for=\"sk-estimator-id-2\" class=\"sk-toggleable__label sk-toggleable__label-arrow\">estimator: LogisticRegression</label><div class=\"sk-toggleable__content\"><pre>LogisticRegression(solver=&#x27;newton-cg&#x27;)</pre></div></div></div><div class=\"sk-serial\"><div class=\"sk-item\"><div class=\"sk-estimator sk-toggleable\"><input class=\"sk-toggleable__control sk-hidden--visually\" id=\"sk-estimator-id-3\" type=\"checkbox\" ><label for=\"sk-estimator-id-3\" class=\"sk-toggleable__label sk-toggleable__label-arrow\">LogisticRegression</label><div class=\"sk-toggleable__content\"><pre>LogisticRegression(solver=&#x27;newton-cg&#x27;)</pre></div></div></div></div></div></div></div></div></div></div>"
      ],
      "text/plain": [
       "RFE(estimator=LogisticRegression(solver='newton-cg'), n_features_to_select=12)"
      ]
     },
     "execution_count": 15,
     "metadata": {},
     "output_type": "execute_result"
    }
   ],
   "source": [
    "# Perform RFE\n",
    "n_features_to_select = 12  # Specify the number of top features you want to select\n",
    "rfe = RFE(estimator=logreg, n_features_to_select=n_features_to_select)\n",
    "rfe.fit(X_train, y_train)\n"
   ]
  },
  {
   "cell_type": "code",
   "execution_count": 16,
   "id": "077b71b9-4449-4338-95ee-8febfe264991",
   "metadata": {},
   "outputs": [
    {
     "name": "stdout",
     "output_type": "stream",
     "text": [
      "Selected features (top 12):\n",
      "Index(['residence_status', 'days_since_last_visit', 'months_since_first_purch',\n",
      "       'num_haba_L6M', 'num_hw_L6M', 'dollars_hw_L6M', 'total_dollars_L6M',\n",
      "       'avg_total_spending', 'proportion_spending_haba',\n",
      "       'proportion_spending_hw', 'total_num_purch_categories_L6M',\n",
      "       'total_margin_L6M'],\n",
      "      dtype='object')\n"
     ]
    }
   ],
   "source": [
    "# Print the most important features\n",
    "selected_features = pd.Series(rfe.support_, index=X.columns)\n",
    "print(\"Selected features (top {}):\".format(n_features_to_select))\n",
    "print(selected_features[selected_features].index)"
   ]
  },
  {
   "cell_type": "code",
   "execution_count": 17,
   "id": "8673a8ef-ad27-4c5e-b18a-32a19adc13b2",
   "metadata": {},
   "outputs": [
    {
     "data": {
      "text/html": [
       "<style>#sk-container-id-2 {color: black;background-color: white;}#sk-container-id-2 pre{padding: 0;}#sk-container-id-2 div.sk-toggleable {background-color: white;}#sk-container-id-2 label.sk-toggleable__label {cursor: pointer;display: block;width: 100%;margin-bottom: 0;padding: 0.3em;box-sizing: border-box;text-align: center;}#sk-container-id-2 label.sk-toggleable__label-arrow:before {content: \"▸\";float: left;margin-right: 0.25em;color: #696969;}#sk-container-id-2 label.sk-toggleable__label-arrow:hover:before {color: black;}#sk-container-id-2 div.sk-estimator:hover label.sk-toggleable__label-arrow:before {color: black;}#sk-container-id-2 div.sk-toggleable__content {max-height: 0;max-width: 0;overflow: hidden;text-align: left;background-color: #f0f8ff;}#sk-container-id-2 div.sk-toggleable__content pre {margin: 0.2em;color: black;border-radius: 0.25em;background-color: #f0f8ff;}#sk-container-id-2 input.sk-toggleable__control:checked~div.sk-toggleable__content {max-height: 200px;max-width: 100%;overflow: auto;}#sk-container-id-2 input.sk-toggleable__control:checked~label.sk-toggleable__label-arrow:before {content: \"▾\";}#sk-container-id-2 div.sk-estimator input.sk-toggleable__control:checked~label.sk-toggleable__label {background-color: #d4ebff;}#sk-container-id-2 div.sk-label input.sk-toggleable__control:checked~label.sk-toggleable__label {background-color: #d4ebff;}#sk-container-id-2 input.sk-hidden--visually {border: 0;clip: rect(1px 1px 1px 1px);clip: rect(1px, 1px, 1px, 1px);height: 1px;margin: -1px;overflow: hidden;padding: 0;position: absolute;width: 1px;}#sk-container-id-2 div.sk-estimator {font-family: monospace;background-color: #f0f8ff;border: 1px dotted black;border-radius: 0.25em;box-sizing: border-box;margin-bottom: 0.5em;}#sk-container-id-2 div.sk-estimator:hover {background-color: #d4ebff;}#sk-container-id-2 div.sk-parallel-item::after {content: \"\";width: 100%;border-bottom: 1px solid gray;flex-grow: 1;}#sk-container-id-2 div.sk-label:hover label.sk-toggleable__label {background-color: #d4ebff;}#sk-container-id-2 div.sk-serial::before {content: \"\";position: absolute;border-left: 1px solid gray;box-sizing: border-box;top: 0;bottom: 0;left: 50%;z-index: 0;}#sk-container-id-2 div.sk-serial {display: flex;flex-direction: column;align-items: center;background-color: white;padding-right: 0.2em;padding-left: 0.2em;position: relative;}#sk-container-id-2 div.sk-item {position: relative;z-index: 1;}#sk-container-id-2 div.sk-parallel {display: flex;align-items: stretch;justify-content: center;background-color: white;position: relative;}#sk-container-id-2 div.sk-item::before, #sk-container-id-2 div.sk-parallel-item::before {content: \"\";position: absolute;border-left: 1px solid gray;box-sizing: border-box;top: 0;bottom: 0;left: 50%;z-index: -1;}#sk-container-id-2 div.sk-parallel-item {display: flex;flex-direction: column;z-index: 1;position: relative;background-color: white;}#sk-container-id-2 div.sk-parallel-item:first-child::after {align-self: flex-end;width: 50%;}#sk-container-id-2 div.sk-parallel-item:last-child::after {align-self: flex-start;width: 50%;}#sk-container-id-2 div.sk-parallel-item:only-child::after {width: 0;}#sk-container-id-2 div.sk-dashed-wrapped {border: 1px dashed gray;margin: 0 0.4em 0.5em 0.4em;box-sizing: border-box;padding-bottom: 0.4em;background-color: white;}#sk-container-id-2 div.sk-label label {font-family: monospace;font-weight: bold;display: inline-block;line-height: 1.2em;}#sk-container-id-2 div.sk-label-container {text-align: center;}#sk-container-id-2 div.sk-container {/* jupyter's `normalize.less` sets `[hidden] { display: none; }` but bootstrap.min.css set `[hidden] { display: none !important; }` so we also need the `!important` here to be able to override the default hidden behavior on the sphinx rendered scikit-learn.org. See: https://github.com/scikit-learn/scikit-learn/issues/21755 */display: inline-block !important;position: relative;}#sk-container-id-2 div.sk-text-repr-fallback {display: none;}</style><div id=\"sk-container-id-2\" class=\"sk-top-container\"><div class=\"sk-text-repr-fallback\"><pre>LogisticRegression(solver=&#x27;newton-cg&#x27;)</pre><b>In a Jupyter environment, please rerun this cell to show the HTML representation or trust the notebook. <br />On GitHub, the HTML representation is unable to render, please try loading this page with nbviewer.org.</b></div><div class=\"sk-container\" hidden><div class=\"sk-item\"><div class=\"sk-estimator sk-toggleable\"><input class=\"sk-toggleable__control sk-hidden--visually\" id=\"sk-estimator-id-4\" type=\"checkbox\" checked><label for=\"sk-estimator-id-4\" class=\"sk-toggleable__label sk-toggleable__label-arrow\">LogisticRegression</label><div class=\"sk-toggleable__content\"><pre>LogisticRegression(solver=&#x27;newton-cg&#x27;)</pre></div></div></div></div></div>"
      ],
      "text/plain": [
       "LogisticRegression(solver='newton-cg')"
      ]
     },
     "execution_count": 17,
     "metadata": {},
     "output_type": "execute_result"
    }
   ],
   "source": [
    "# You can now train your logistic regression model using only the selected features\n",
    "X_train_selected = rfe.transform(X_train)\n",
    "X_test_selected = rfe.transform(X_test)\n",
    "logreg.fit(X_train_selected, y_train)"
   ]
  },
  {
   "cell_type": "code",
   "execution_count": 18,
   "id": "26c4f5b7-ca9c-48b9-9350-3f1aa7c6f2eb",
   "metadata": {},
   "outputs": [],
   "source": [
    "from sklearn.metrics import accuracy_score, precision_score, recall_score, f1_score, roc_auc_score, confusion_matrix, ConfusionMatrixDisplay"
   ]
  },
  {
   "cell_type": "code",
   "execution_count": 19,
   "id": "16207984-b349-4987-a7d0-0fb1bfa78254",
   "metadata": {},
   "outputs": [],
   "source": [
    "# Make predictions using the test set\n",
    "y_pred = logreg.predict(X_test_selected)\n",
    "y_pred_proba = logreg.predict_proba(X_test_selected)[:, 1]\n"
   ]
  },
  {
   "cell_type": "code",
   "execution_count": 20,
   "id": "b4568959-6b10-441d-85cb-13b49a77a68a",
   "metadata": {},
   "outputs": [
    {
     "name": "stderr",
     "output_type": "stream",
     "text": [
      "/Users/jingu/opt/anaconda3/lib/python3.9/site-packages/sklearn/metrics/_classification.py:1344: UndefinedMetricWarning: Precision is ill-defined and being set to 0.0 due to no predicted samples. Use `zero_division` parameter to control this behavior.\n",
      "  _warn_prf(average, modifier, msg_start, len(result))\n"
     ]
    }
   ],
   "source": [
    "# Calculate evaluation metrics\n",
    "accuracy = accuracy_score(y_test, y_pred)\n",
    "precision = precision_score(y_test, y_pred)\n",
    "recall = recall_score(y_test, y_pred)\n",
    "f1 = f1_score(y_test, y_pred)\n"
   ]
  },
  {
   "cell_type": "code",
   "execution_count": 21,
   "id": "165187bf-db09-4524-9591-d0f10b7af0c3",
   "metadata": {},
   "outputs": [
    {
     "name": "stdout",
     "output_type": "stream",
     "text": [
      "Accuracy: 0.9878746505428776\n",
      "Precision: 0.0\n",
      "Recall: 0.0\n",
      "F1 score: 0.0\n"
     ]
    }
   ],
   "source": [
    "print(\"Accuracy:\", accuracy)\n",
    "print(\"Precision:\", precision)\n",
    "print(\"Recall:\", recall)\n",
    "print(\"F1 score:\", f1)\n"
   ]
  },
  {
   "cell_type": "code",
   "execution_count": 23,
   "id": "f276926b-e714-4598-a295-0d965e1c3719",
   "metadata": {},
   "outputs": [
    {
     "data": {
      "image/png": "[encoded data removed]",
      "text/plain": [
       "<Figure size 432x288 with 2 Axes>"
      ]
     },
     "metadata": {
      "needs_background": "light"
     },
     "output_type": "display_data"
    }
   ],
   "source": [
    "# Plot confusion matrix\n",
    "cm = confusion_matrix(y_test, y_pred)\n",
    "cm_display = ConfusionMatrixDisplay(confusion_matrix=cm, display_labels=logreg.classes_)\n",
    "cm_display.plot(cmap='Blues')\n",
    "plt.title(\"Confusion Matrix\")\n",
    "plt.show()"
   ]
  },
  {
   "cell_type": "code",
   "execution_count": 24,
   "id": "fba6dcf2-1bd2-4985-b9e2-9f5ad4cf5431",
   "metadata": {},
   "outputs": [
    {
     "name": "stdout",
     "output_type": "stream",
     "text": [
      "[[30389     0]\n",
      " [  373     0]]\n"
     ]
    }
   ],
   "source": [
    "print(cm)"
   ]
  },
  {
   "cell_type": "markdown",
   "id": "09a5bea1-2d95-4870-be46-de15b3b63e39",
   "metadata": {},
   "source": [
    "This indicates that the model predicts all instances as the negative class (non-responders). The model did not predict any positive instances (responders) correctly. It may be due to the imbalance in the dataset, where the majority of instances belong to the negative class.\n",
    "\n",
    "In this case, the model is not a good predictor of response to promotions based on the variables in the dataset. Relying solely on accuracy as an evaluation metric is not appropriate when dealing with imbalanced datasets. Instead, you should consider other metrics like precision, recall, F1-score, and AUC-ROC to evaluate the model's performance.\n",
    "\n",
    "You can try different approaches to improve the model's performance:\n",
    "\n",
    "Resampling: You can either oversample the minority class, undersample the majority class, or use a combination of both to balance the class distribution.\n",
    "\n",
    "Using different classifiers: Experiment with other classifiers like Random Forest, Gradient Boosting Machines, or Support Vector Machines, which might perform better on imbalanced datasets.\n",
    "\n",
    "Tuning hyperparameters: You can fine-tune the hyperparameters of your classifier using techniques like GridSearchCV or RandomizedSearchCV to improve the model's performance.\n",
    "\n",
    "Using different evaluation metrics: As mentioned earlier, use other evaluation metrics like precision, recall, F1-score, and AUC-ROC to assess the model's performance.\n",
    "\n",
    "Remember that even after applying feature engineering and RFE, the model's performance may not improve significantly if the dataset's imbalance is severe. You should focus on addressing the class imbalance issue and fine-tuning the classifier to improve its performance."
   ]
  },
  {
   "cell_type": "markdown",
   "id": "95d9e8b2-00fa-440a-b877-5be12ad80cfd",
   "metadata": {
    "tags": []
   },
   "source": [
    "# Random Forest"
   ]
  },
  {
   "cell_type": "code",
   "execution_count": 19,
   "id": "bf1e03a2-3d14-4df5-9a84-0b49e9099c37",
   "metadata": {},
   "outputs": [],
   "source": [
    "x = df.drop(columns=['response_flag','Clusters'])\n",
    "y = df['response_flag']"
   ]
  },
  {
   "cell_type": "code",
   "execution_count": 20,
   "id": "64fc25ff-d5ec-42b0-aca5-e772e00f067d",
   "metadata": {},
   "outputs": [],
   "source": [
    "#train test split\n",
    "X_train, X_test, y_train, y_test = train_test_split(x, y, test_size=0.3, random_state=0)"
   ]
  },
  {
   "cell_type": "code",
   "execution_count": 21,
   "id": "3dce6a59-3907-4d15-b7c6-fb23c64db385",
   "metadata": {},
   "outputs": [],
   "source": [
    "# Create the random forest classifier\n",
    "rf = RandomForestClassifier(random_state=0)"
   ]
  },
  {
   "cell_type": "code",
   "execution_count": 22,
   "id": "c9b9db43-fbed-46e5-be72-0b557300f56c",
   "metadata": {},
   "outputs": [
    {
     "data": {
      "text/html": [
       "<style>#sk-container-id-2 {color: black;background-color: white;}#sk-container-id-2 pre{padding: 0;}#sk-container-id-2 div.sk-toggleable {background-color: white;}#sk-container-id-2 label.sk-toggleable__label {cursor: pointer;display: block;width: 100%;margin-bottom: 0;padding: 0.3em;box-sizing: border-box;text-align: center;}#sk-container-id-2 label.sk-toggleable__label-arrow:before {content: \"▸\";float: left;margin-right: 0.25em;color: #696969;}#sk-container-id-2 label.sk-toggleable__label-arrow:hover:before {color: black;}#sk-container-id-2 div.sk-estimator:hover label.sk-toggleable__label-arrow:before {color: black;}#sk-container-id-2 div.sk-toggleable__content {max-height: 0;max-width: 0;overflow: hidden;text-align: left;background-color: #f0f8ff;}#sk-container-id-2 div.sk-toggleable__content pre {margin: 0.2em;color: black;border-radius: 0.25em;background-color: #f0f8ff;}#sk-container-id-2 input.sk-toggleable__control:checked~div.sk-toggleable__content {max-height: 200px;max-width: 100%;overflow: auto;}#sk-container-id-2 input.sk-toggleable__control:checked~label.sk-toggleable__label-arrow:before {content: \"▾\";}#sk-container-id-2 div.sk-estimator input.sk-toggleable__control:checked~label.sk-toggleable__label {background-color: #d4ebff;}#sk-container-id-2 div.sk-label input.sk-toggleable__control:checked~label.sk-toggleable__label {background-color: #d4ebff;}#sk-container-id-2 input.sk-hidden--visually {border: 0;clip: rect(1px 1px 1px 1px);clip: rect(1px, 1px, 1px, 1px);height: 1px;margin: -1px;overflow: hidden;padding: 0;position: absolute;width: 1px;}#sk-container-id-2 div.sk-estimator {font-family: monospace;background-color: #f0f8ff;border: 1px dotted black;border-radius: 0.25em;box-sizing: border-box;margin-bottom: 0.5em;}#sk-container-id-2 div.sk-estimator:hover {background-color: #d4ebff;}#sk-container-id-2 div.sk-parallel-item::after {content: \"\";width: 100%;border-bottom: 1px solid gray;flex-grow: 1;}#sk-container-id-2 div.sk-label:hover label.sk-toggleable__label {background-color: #d4ebff;}#sk-container-id-2 div.sk-serial::before {content: \"\";position: absolute;border-left: 1px solid gray;box-sizing: border-box;top: 0;bottom: 0;left: 50%;z-index: 0;}#sk-container-id-2 div.sk-serial {display: flex;flex-direction: column;align-items: center;background-color: white;padding-right: 0.2em;padding-left: 0.2em;position: relative;}#sk-container-id-2 div.sk-item {position: relative;z-index: 1;}#sk-container-id-2 div.sk-parallel {display: flex;align-items: stretch;justify-content: center;background-color: white;position: relative;}#sk-container-id-2 div.sk-item::before, #sk-container-id-2 div.sk-parallel-item::before {content: \"\";position: absolute;border-left: 1px solid gray;box-sizing: border-box;top: 0;bottom: 0;left: 50%;z-index: -1;}#sk-container-id-2 div.sk-parallel-item {display: flex;flex-direction: column;z-index: 1;position: relative;background-color: white;}#sk-container-id-2 div.sk-parallel-item:first-child::after {align-self: flex-end;width: 50%;}#sk-container-id-2 div.sk-parallel-item:last-child::after {align-self: flex-start;width: 50%;}#sk-container-id-2 div.sk-parallel-item:only-child::after {width: 0;}#sk-container-id-2 div.sk-dashed-wrapped {border: 1px dashed gray;margin: 0 0.4em 0.5em 0.4em;box-sizing: border-box;padding-bottom: 0.4em;background-color: white;}#sk-container-id-2 div.sk-label label {font-family: monospace;font-weight: bold;display: inline-block;line-height: 1.2em;}#sk-container-id-2 div.sk-label-container {text-align: center;}#sk-container-id-2 div.sk-container {/* jupyter's `normalize.less` sets `[hidden] { display: none; }` but bootstrap.min.css set `[hidden] { display: none !important; }` so we also need the `!important` here to be able to override the default hidden behavior on the sphinx rendered scikit-learn.org. See: https://github.com/scikit-learn/scikit-learn/issues/21755 */display: inline-block !important;position: relative;}#sk-container-id-2 div.sk-text-repr-fallback {display: none;}</style><div id=\"sk-container-id-2\" class=\"sk-top-container\"><div class=\"sk-text-repr-fallback\"><pre>RandomForestClassifier(random_state=0)</pre><b>In a Jupyter environment, please rerun this cell to show the HTML representation or trust the notebook. <br />On GitHub, the HTML representation is unable to render, please try loading this page with nbviewer.org.</b></div><div class=\"sk-container\" hidden><div class=\"sk-item\"><div class=\"sk-estimator sk-toggleable\"><input class=\"sk-toggleable__control sk-hidden--visually\" id=\"sk-estimator-id-2\" type=\"checkbox\" checked><label for=\"sk-estimator-id-2\" class=\"sk-toggleable__label sk-toggleable__label-arrow\">RandomForestClassifier</label><div class=\"sk-toggleable__content\"><pre>RandomForestClassifier(random_state=0)</pre></div></div></div></div></div>"
      ],
      "text/plain": [
       "RandomForestClassifier(random_state=0)"
      ]
     },
     "execution_count": 22,
     "metadata": {},
     "output_type": "execute_result"
    }
   ],
   "source": [
    "# Train the random forest model\n",
    "rf.fit(X_train, y_train)"
   ]
  },
  {
   "cell_type": "code",
   "execution_count": 23,
   "id": "c881682d-9d58-4944-a90b-282c1b270ee9",
   "metadata": {},
   "outputs": [],
   "source": [
    "# Make predictions using the test set\n",
    "y_pred = rf.predict(X_test)"
   ]
  },
  {
   "cell_type": "code",
   "execution_count": 24,
   "id": "0b873813-2093-434e-be11-127536f46a1b",
   "metadata": {},
   "outputs": [
    {
     "name": "stdout",
     "output_type": "stream",
     "text": [
      "Classification Report:\n",
      "              precision    recall  f1-score   support\n",
      "\n",
      "           0       0.99      1.00      0.99     30356\n",
      "           1       1.00      0.00      0.00       406\n",
      "\n",
      "    accuracy                           0.99     30762\n",
      "   macro avg       0.99      0.50      0.50     30762\n",
      "weighted avg       0.99      0.99      0.98     30762\n",
      "\n"
     ]
    }
   ],
   "source": [
    "# Print classification report and confusion matrix\n",
    "print(\"Classification Report:\")\n",
    "print(classification_report(y_test, y_pred))"
   ]
  },
  {
   "cell_type": "code",
   "execution_count": 25,
   "id": "45941763-6a70-4bb5-875c-fdbf0cbab36d",
   "metadata": {},
   "outputs": [
    {
     "name": "stdout",
     "output_type": "stream",
     "text": [
      "Confusion Matrix:\n",
      "[[30356     0]\n",
      " [  405     1]]\n"
     ]
    }
   ],
   "source": [
    "print(\"Confusion Matrix:\")\n",
    "print(confusion_matrix(y_test, y_pred))"
   ]
  },
  {
   "cell_type": "code",
   "execution_count": 26,
   "id": "39636e6a-29c5-4ad9-9004-9f59efb8849e",
   "metadata": {},
   "outputs": [],
   "source": [
    "# Tune hyperparameters using GridSearchCV\n",
    "param_grid = {\n",
    "    'n_estimators': [50, 100, 200],\n",
    "    'max_depth': [None, 10, 20, 30],\n",
    "    'min_samples_split': [2, 5, 10],\n",
    "    'min_samples_leaf': [1, 2, 4]\n",
    "}"
   ]
  },
  {
   "cell_type": "code",
   "execution_count": 27,
   "id": "35c13d2e-d02c-4b72-8a4d-39f03dd383ff",
   "metadata": {},
   "outputs": [
    {
     "name": "stdout",
     "output_type": "stream",
     "text": [
      "Fitting 5 folds for each of 108 candidates, totalling 540 fits\n"
     ]
    },
    {
     "data": {
      "text/html": [
       "<style>#sk-container-id-3 {color: black;background-color: white;}#sk-container-id-3 pre{padding: 0;}#sk-container-id-3 div.sk-toggleable {background-color: white;}#sk-container-id-3 label.sk-toggleable__label {cursor: pointer;display: block;width: 100%;margin-bottom: 0;padding: 0.3em;box-sizing: border-box;text-align: center;}#sk-container-id-3 label.sk-toggleable__label-arrow:before {content: \"▸\";float: left;margin-right: 0.25em;color: #696969;}#sk-container-id-3 label.sk-toggleable__label-arrow:hover:before {color: black;}#sk-container-id-3 div.sk-estimator:hover label.sk-toggleable__label-arrow:before {color: black;}#sk-container-id-3 div.sk-toggleable__content {max-height: 0;max-width: 0;overflow: hidden;text-align: left;background-color: #f0f8ff;}#sk-container-id-3 div.sk-toggleable__content pre {margin: 0.2em;color: black;border-radius: 0.25em;background-color: #f0f8ff;}#sk-container-id-3 input.sk-toggleable__control:checked~div.sk-toggleable__content {max-height: 200px;max-width: 100%;overflow: auto;}#sk-container-id-3 input.sk-toggleable__control:checked~label.sk-toggleable__label-arrow:before {content: \"▾\";}#sk-container-id-3 div.sk-estimator input.sk-toggleable__control:checked~label.sk-toggleable__label {background-color: #d4ebff;}#sk-container-id-3 div.sk-label input.sk-toggleable__control:checked~label.sk-toggleable__label {background-color: #d4ebff;}#sk-container-id-3 input.sk-hidden--visually {border: 0;clip: rect(1px 1px 1px 1px);clip: rect(1px, 1px, 1px, 1px);height: 1px;margin: -1px;overflow: hidden;padding: 0;position: absolute;width: 1px;}#sk-container-id-3 div.sk-estimator {font-family: monospace;background-color: #f0f8ff;border: 1px dotted black;border-radius: 0.25em;box-sizing: border-box;margin-bottom: 0.5em;}#sk-container-id-3 div.sk-estimator:hover {background-color: #d4ebff;}#sk-container-id-3 div.sk-parallel-item::after {content: \"\";width: 100%;border-bottom: 1px solid gray;flex-grow: 1;}#sk-container-id-3 div.sk-label:hover label.sk-toggleable__label {background-color: #d4ebff;}#sk-container-id-3 div.sk-serial::before {content: \"\";position: absolute;border-left: 1px solid gray;box-sizing: border-box;top: 0;bottom: 0;left: 50%;z-index: 0;}#sk-container-id-3 div.sk-serial {display: flex;flex-direction: column;align-items: center;background-color: white;padding-right: 0.2em;padding-left: 0.2em;position: relative;}#sk-container-id-3 div.sk-item {position: relative;z-index: 1;}#sk-container-id-3 div.sk-parallel {display: flex;align-items: stretch;justify-content: center;background-color: white;position: relative;}#sk-container-id-3 div.sk-item::before, #sk-container-id-3 div.sk-parallel-item::before {content: \"\";position: absolute;border-left: 1px solid gray;box-sizing: border-box;top: 0;bottom: 0;left: 50%;z-index: -1;}#sk-container-id-3 div.sk-parallel-item {display: flex;flex-direction: column;z-index: 1;position: relative;background-color: white;}#sk-container-id-3 div.sk-parallel-item:first-child::after {align-self: flex-end;width: 50%;}#sk-container-id-3 div.sk-parallel-item:last-child::after {align-self: flex-start;width: 50%;}#sk-container-id-3 div.sk-parallel-item:only-child::after {width: 0;}#sk-container-id-3 div.sk-dashed-wrapped {border: 1px dashed gray;margin: 0 0.4em 0.5em 0.4em;box-sizing: border-box;padding-bottom: 0.4em;background-color: white;}#sk-container-id-3 div.sk-label label {font-family: monospace;font-weight: bold;display: inline-block;line-height: 1.2em;}#sk-container-id-3 div.sk-label-container {text-align: center;}#sk-container-id-3 div.sk-container {/* jupyter's `normalize.less` sets `[hidden] { display: none; }` but bootstrap.min.css set `[hidden] { display: none !important; }` so we also need the `!important` here to be able to override the default hidden behavior on the sphinx rendered scikit-learn.org. See: https://github.com/scikit-learn/scikit-learn/issues/21755 */display: inline-block !important;position: relative;}#sk-container-id-3 div.sk-text-repr-fallback {display: none;}</style><div id=\"sk-container-id-3\" class=\"sk-top-container\"><div class=\"sk-text-repr-fallback\"><pre>GridSearchCV(cv=5, estimator=RandomForestClassifier(random_state=0), n_jobs=-1,\n",
       "             param_grid={&#x27;max_depth&#x27;: [None, 10, 20, 30],\n",
       "                         &#x27;min_samples_leaf&#x27;: [1, 2, 4],\n",
       "                         &#x27;min_samples_split&#x27;: [2, 5, 10],\n",
       "                         &#x27;n_estimators&#x27;: [50, 100, 200]},\n",
       "             scoring=&#x27;roc_auc&#x27;, verbose=1)</pre><b>In a Jupyter environment, please rerun this cell to show the HTML representation or trust the notebook. <br />On GitHub, the HTML representation is unable to render, please try loading this page with nbviewer.org.</b></div><div class=\"sk-container\" hidden><div class=\"sk-item sk-dashed-wrapped\"><div class=\"sk-label-container\"><div class=\"sk-label sk-toggleable\"><input class=\"sk-toggleable__control sk-hidden--visually\" id=\"sk-estimator-id-3\" type=\"checkbox\" ><label for=\"sk-estimator-id-3\" class=\"sk-toggleable__label sk-toggleable__label-arrow\">GridSearchCV</label><div class=\"sk-toggleable__content\"><pre>GridSearchCV(cv=5, estimator=RandomForestClassifier(random_state=0), n_jobs=-1,\n",
       "             param_grid={&#x27;max_depth&#x27;: [None, 10, 20, 30],\n",
       "                         &#x27;min_samples_leaf&#x27;: [1, 2, 4],\n",
       "                         &#x27;min_samples_split&#x27;: [2, 5, 10],\n",
       "                         &#x27;n_estimators&#x27;: [50, 100, 200]},\n",
       "             scoring=&#x27;roc_auc&#x27;, verbose=1)</pre></div></div></div><div class=\"sk-parallel\"><div class=\"sk-parallel-item\"><div class=\"sk-item\"><div class=\"sk-label-container\"><div class=\"sk-label sk-toggleable\"><input class=\"sk-toggleable__control sk-hidden--visually\" id=\"sk-estimator-id-4\" type=\"checkbox\" ><label for=\"sk-estimator-id-4\" class=\"sk-toggleable__label sk-toggleable__label-arrow\">estimator: RandomForestClassifier</label><div class=\"sk-toggleable__content\"><pre>RandomForestClassifier(random_state=0)</pre></div></div></div><div class=\"sk-serial\"><div class=\"sk-item\"><div class=\"sk-estimator sk-toggleable\"><input class=\"sk-toggleable__control sk-hidden--visually\" id=\"sk-estimator-id-5\" type=\"checkbox\" ><label for=\"sk-estimator-id-5\" class=\"sk-toggleable__label sk-toggleable__label-arrow\">RandomForestClassifier</label><div class=\"sk-toggleable__content\"><pre>RandomForestClassifier(random_state=0)</pre></div></div></div></div></div></div></div></div></div></div>"
      ],
      "text/plain": [
       "GridSearchCV(cv=5, estimator=RandomForestClassifier(random_state=0), n_jobs=-1,\n",
       "             param_grid={'max_depth': [None, 10, 20, 30],\n",
       "                         'min_samples_leaf': [1, 2, 4],\n",
       "                         'min_samples_split': [2, 5, 10],\n",
       "                         'n_estimators': [50, 100, 200]},\n",
       "             scoring='roc_auc', verbose=1)"
      ]
     },
     "execution_count": 27,
     "metadata": {},
     "output_type": "execute_result"
    }
   ],
   "source": [
    "grid_search = GridSearchCV(estimator=rf, param_grid=param_grid, cv=5, scoring='roc_auc', n_jobs=-1, verbose=1)\n",
    "grid_search.fit(X_train, y_train)"
   ]
  },
  {
   "cell_type": "code",
   "execution_count": 28,
   "id": "2a4d69ed-33bc-41ee-98f7-99c9048f3d56",
   "metadata": {},
   "outputs": [
    {
     "name": "stdout",
     "output_type": "stream",
     "text": [
      "Best Hyperparameters:\n",
      "{'max_depth': 10, 'min_samples_leaf': 2, 'min_samples_split': 2, 'n_estimators': 200}\n"
     ]
    }
   ],
   "source": [
    "# Print the best hyperparameters\n",
    "print(\"Best Hyperparameters:\")\n",
    "print(grid_search.best_params_)"
   ]
  },
  {
   "cell_type": "code",
   "execution_count": 29,
   "id": "b79eba9b-8ae1-41d5-bb85-b791f8ce846d",
   "metadata": {},
   "outputs": [
    {
     "data": {
      "text/html": [
       "<style>#sk-container-id-4 {color: black;background-color: white;}#sk-container-id-4 pre{padding: 0;}#sk-container-id-4 div.sk-toggleable {background-color: white;}#sk-container-id-4 label.sk-toggleable__label {cursor: pointer;display: block;width: 100%;margin-bottom: 0;padding: 0.3em;box-sizing: border-box;text-align: center;}#sk-container-id-4 label.sk-toggleable__label-arrow:before {content: \"▸\";float: left;margin-right: 0.25em;color: #696969;}#sk-container-id-4 label.sk-toggleable__label-arrow:hover:before {color: black;}#sk-container-id-4 div.sk-estimator:hover label.sk-toggleable__label-arrow:before {color: black;}#sk-container-id-4 div.sk-toggleable__content {max-height: 0;max-width: 0;overflow: hidden;text-align: left;background-color: #f0f8ff;}#sk-container-id-4 div.sk-toggleable__content pre {margin: 0.2em;color: black;border-radius: 0.25em;background-color: #f0f8ff;}#sk-container-id-4 input.sk-toggleable__control:checked~div.sk-toggleable__content {max-height: 200px;max-width: 100%;overflow: auto;}#sk-container-id-4 input.sk-toggleable__control:checked~label.sk-toggleable__label-arrow:before {content: \"▾\";}#sk-container-id-4 div.sk-estimator input.sk-toggleable__control:checked~label.sk-toggleable__label {background-color: #d4ebff;}#sk-container-id-4 div.sk-label input.sk-toggleable__control:checked~label.sk-toggleable__label {background-color: #d4ebff;}#sk-container-id-4 input.sk-hidden--visually {border: 0;clip: rect(1px 1px 1px 1px);clip: rect(1px, 1px, 1px, 1px);height: 1px;margin: -1px;overflow: hidden;padding: 0;position: absolute;width: 1px;}#sk-container-id-4 div.sk-estimator {font-family: monospace;background-color: #f0f8ff;border: 1px dotted black;border-radius: 0.25em;box-sizing: border-box;margin-bottom: 0.5em;}#sk-container-id-4 div.sk-estimator:hover {background-color: #d4ebff;}#sk-container-id-4 div.sk-parallel-item::after {content: \"\";width: 100%;border-bottom: 1px solid gray;flex-grow: 1;}#sk-container-id-4 div.sk-label:hover label.sk-toggleable__label {background-color: #d4ebff;}#sk-container-id-4 div.sk-serial::before {content: \"\";position: absolute;border-left: 1px solid gray;box-sizing: border-box;top: 0;bottom: 0;left: 50%;z-index: 0;}#sk-container-id-4 div.sk-serial {display: flex;flex-direction: column;align-items: center;background-color: white;padding-right: 0.2em;padding-left: 0.2em;position: relative;}#sk-container-id-4 div.sk-item {position: relative;z-index: 1;}#sk-container-id-4 div.sk-parallel {display: flex;align-items: stretch;justify-content: center;background-color: white;position: relative;}#sk-container-id-4 div.sk-item::before, #sk-container-id-4 div.sk-parallel-item::before {content: \"\";position: absolute;border-left: 1px solid gray;box-sizing: border-box;top: 0;bottom: 0;left: 50%;z-index: -1;}#sk-container-id-4 div.sk-parallel-item {display: flex;flex-direction: column;z-index: 1;position: relative;background-color: white;}#sk-container-id-4 div.sk-parallel-item:first-child::after {align-self: flex-end;width: 50%;}#sk-container-id-4 div.sk-parallel-item:last-child::after {align-self: flex-start;width: 50%;}#sk-container-id-4 div.sk-parallel-item:only-child::after {width: 0;}#sk-container-id-4 div.sk-dashed-wrapped {border: 1px dashed gray;margin: 0 0.4em 0.5em 0.4em;box-sizing: border-box;padding-bottom: 0.4em;background-color: white;}#sk-container-id-4 div.sk-label label {font-family: monospace;font-weight: bold;display: inline-block;line-height: 1.2em;}#sk-container-id-4 div.sk-label-container {text-align: center;}#sk-container-id-4 div.sk-container {/* jupyter's `normalize.less` sets `[hidden] { display: none; }` but bootstrap.min.css set `[hidden] { display: none !important; }` so we also need the `!important` here to be able to override the default hidden behavior on the sphinx rendered scikit-learn.org. See: https://github.com/scikit-learn/scikit-learn/issues/21755 */display: inline-block !important;position: relative;}#sk-container-id-4 div.sk-text-repr-fallback {display: none;}</style><div id=\"sk-container-id-4\" class=\"sk-top-container\"><div class=\"sk-text-repr-fallback\"><pre>RandomForestClassifier(max_depth=10, min_samples_leaf=2, n_estimators=200,\n",
       "                       random_state=0)</pre><b>In a Jupyter environment, please rerun this cell to show the HTML representation or trust the notebook. <br />On GitHub, the HTML representation is unable to render, please try loading this page with nbviewer.org.</b></div><div class=\"sk-container\" hidden><div class=\"sk-item\"><div class=\"sk-estimator sk-toggleable\"><input class=\"sk-toggleable__control sk-hidden--visually\" id=\"sk-estimator-id-6\" type=\"checkbox\" checked><label for=\"sk-estimator-id-6\" class=\"sk-toggleable__label sk-toggleable__label-arrow\">RandomForestClassifier</label><div class=\"sk-toggleable__content\"><pre>RandomForestClassifier(max_depth=10, min_samples_leaf=2, n_estimators=200,\n",
       "                       random_state=0)</pre></div></div></div></div></div>"
      ],
      "text/plain": [
       "RandomForestClassifier(max_depth=10, min_samples_leaf=2, n_estimators=200,\n",
       "                       random_state=0)"
      ]
     },
     "execution_count": 29,
     "metadata": {},
     "output_type": "execute_result"
    }
   ],
   "source": [
    "# Train the random forest model with the best hyperparameters\n",
    "best_rf = grid_search.best_estimator_\n",
    "best_rf.fit(X_train, y_train)"
   ]
  },
  {
   "cell_type": "code",
   "execution_count": 30,
   "id": "4969e388-4106-42dd-9445-1521b7930426",
   "metadata": {},
   "outputs": [],
   "source": [
    "# Make predictions using the test set with the best hyperparameters\n",
    "y_pred_best = best_rf.predict(X_test)"
   ]
  },
  {
   "cell_type": "code",
   "execution_count": 31,
   "id": "638346e4-c5b6-485d-a2df-f1181a8f0f4b",
   "metadata": {},
   "outputs": [
    {
     "name": "stdout",
     "output_type": "stream",
     "text": [
      "Classification Report (Best Model):\n",
      "              precision    recall  f1-score   support\n",
      "\n",
      "           0       0.99      1.00      0.99     30356\n",
      "           1       0.00      0.00      0.00       406\n",
      "\n",
      "    accuracy                           0.99     30762\n",
      "   macro avg       0.49      0.50      0.50     30762\n",
      "weighted avg       0.97      0.99      0.98     30762\n",
      "\n"
     ]
    },
    {
     "name": "stderr",
     "output_type": "stream",
     "text": [
      "/Users/jingu/opt/anaconda3/lib/python3.9/site-packages/sklearn/metrics/_classification.py:1344: UndefinedMetricWarning: Precision and F-score are ill-defined and being set to 0.0 in labels with no predicted samples. Use `zero_division` parameter to control this behavior.\n",
      "  _warn_prf(average, modifier, msg_start, len(result))\n",
      "/Users/jingu/opt/anaconda3/lib/python3.9/site-packages/sklearn/metrics/_classification.py:1344: UndefinedMetricWarning: Precision and F-score are ill-defined and being set to 0.0 in labels with no predicted samples. Use `zero_division` parameter to control this behavior.\n",
      "  _warn_prf(average, modifier, msg_start, len(result))\n",
      "/Users/jingu/opt/anaconda3/lib/python3.9/site-packages/sklearn/metrics/_classification.py:1344: UndefinedMetricWarning: Precision and F-score are ill-defined and being set to 0.0 in labels with no predicted samples. Use `zero_division` parameter to control this behavior.\n",
      "  _warn_prf(average, modifier, msg_start, len(result))\n"
     ]
    }
   ],
   "source": [
    "# Print classification report and confusion matrix for the best model\n",
    "print(\"Classification Report (Best Model):\")\n",
    "print(classification_report(y_test, y_pred_best))"
   ]
  },
  {
   "cell_type": "code",
   "execution_count": 49,
   "id": "4d2f1ee9-4095-4baf-8177-17fa24c98d96",
   "metadata": {},
   "outputs": [
    {
     "name": "stdout",
     "output_type": "stream",
     "text": [
      "Confusion Matrix (Best Model):\n",
      "[[30356     0]\n",
      " [  406     0]]\n"
     ]
    }
   ],
   "source": [
    "print(\"Confusion Matrix (Best Model):\")\n",
    "print(confusion_matrix(y_test, y_pred_best))\n",
    "rf_confusion_matrix = confusion_matrix(y_test, y_pred_best)"
   ]
  },
  {
   "cell_type": "code",
   "execution_count": 50,
   "id": "36181122-fd95-493e-8390-44dd3aba44e5",
   "metadata": {},
   "outputs": [
    {
     "data": {
      "text/plain": [
       "Text(0.5, 15.0, 'Predicted label')"
      ]
     },
     "execution_count": 50,
     "metadata": {},
     "output_type": "execute_result"
    },
    {
     "data": {
      "image/png": "[encoded data removed]",
      "text/plain": [
       "<Figure size 432x288 with 2 Axes>"
      ]
     },
     "metadata": {
      "needs_background": "light"
     },
     "output_type": "display_data"
    }
   ],
   "source": [
    "# create heatmap\n",
    "sns.heatmap(pd.DataFrame(confusion_matrix1), annot=True, cmap=\"YlGnBu\" ,fmt='g')\n",
    "plt.tight_layout()\n",
    "plt.title('Confusion matrix', y=1.1)\n",
    "plt.ylabel('Actual label')\n",
    "plt.xlabel('Predicted label')"
   ]
  },
  {
   "cell_type": "code",
   "execution_count": 35,
   "id": "82a9234a-2c1a-400c-8425-4c10add1a787",
   "metadata": {},
   "outputs": [
    {
     "data": {
      "text/plain": [
       "0.9868018984461349"
      ]
     },
     "execution_count": 35,
     "metadata": {},
     "output_type": "execute_result"
    }
   ],
   "source": [
    "randomaccuracy = accuracy_score(y_test, y_pred_best)\n",
    "randomaccuracy"
   ]
  },
  {
   "cell_type": "code",
   "execution_count": 78,
   "id": "3cbd7ddd-7e6c-43a7-8901-7a40f218f047",
   "metadata": {},
   "outputs": [
    {
     "data": {
      "text/plain": [
       "{'cust_age': 0.06896663834627173,\n",
       " 'cust_profession': 0.02253377440248401,\n",
       " 'gender': 0.008415142171356011,\n",
       " 'hhld_size': 0.013865873998529716,\n",
       " 'marital_status': 0.01663891631571836,\n",
       " 'residence_status': 0.020449479118544476,\n",
       " 'state': 0.05805450513915102,\n",
       " 'days_since_last_visit': 0.08680650069733742,\n",
       " 'months_since_first_purch': 0.13163099499535932,\n",
       " 'num_apparel_L6M': 0.014268196074077866,\n",
       " 'num_elec_L6M': 0.016361320024913698,\n",
       " 'num_haba_L6M': 0.020121245088446406,\n",
       " 'num_hw_L6M': 0.025815028418539415,\n",
       " 'total_num_purch_L6M': 0.030352554904501394,\n",
       " 'dollars_apparel_L6M': 0.0291681905997917,\n",
       " 'dollars_elec_L6M': 0.026842679096868424,\n",
       " 'dollars_haba_L6M': 0.03240723940381251,\n",
       " 'dollars_hw_L6M': 0.04022334317756368,\n",
       " 'total_dollars_L6M': 0.04429588878887171,\n",
       " 'basket_margin': 0.07525812738517805,\n",
       " 'margin_hw': 0.048071814491098326,\n",
       " 'margin_elec': 0.04831860664855098,\n",
       " 'margin_haba': 0.06063408203916267,\n",
       " 'margin_apparel': 0.06049985867387111}"
      ]
     },
     "execution_count": 78,
     "metadata": {},
     "output_type": "execute_result"
    }
   ],
   "source": [
    "feature_importancerf = dict(zip(x.columns, best_rf.feature_importances_))\n",
    "feature_importancerf"
   ]
  },
  {
   "cell_type": "code",
   "execution_count": 79,
   "id": "3bdbc366-8cd8-4788-9d29-52adebc8e542",
   "metadata": {},
   "outputs": [
    {
     "data": {
      "text/plain": [
       "{'months_since_first_purch': 0.13163099499535932,\n",
       " 'days_since_last_visit': 0.08680650069733742,\n",
       " 'basket_margin': 0.07525812738517805,\n",
       " 'cust_age': 0.06896663834627173,\n",
       " 'margin_haba': 0.06063408203916267,\n",
       " 'margin_apparel': 0.06049985867387111,\n",
       " 'state': 0.05805450513915102,\n",
       " 'margin_elec': 0.04831860664855098,\n",
       " 'margin_hw': 0.048071814491098326,\n",
       " 'total_dollars_L6M': 0.04429588878887171,\n",
       " 'dollars_hw_L6M': 0.04022334317756368,\n",
       " 'dollars_haba_L6M': 0.03240723940381251,\n",
       " 'total_num_purch_L6M': 0.030352554904501394,\n",
       " 'dollars_apparel_L6M': 0.0291681905997917,\n",
       " 'dollars_elec_L6M': 0.026842679096868424,\n",
       " 'num_hw_L6M': 0.025815028418539415,\n",
       " 'cust_profession': 0.02253377440248401,\n",
       " 'residence_status': 0.020449479118544476,\n",
       " 'num_haba_L6M': 0.020121245088446406,\n",
       " 'marital_status': 0.01663891631571836,\n",
       " 'num_elec_L6M': 0.016361320024913698,\n",
       " 'num_apparel_L6M': 0.014268196074077866,\n",
       " 'hhld_size': 0.013865873998529716,\n",
       " 'gender': 0.008415142171356011}"
      ]
     },
     "execution_count": 79,
     "metadata": {},
     "output_type": "execute_result"
    }
   ],
   "source": [
    "sorted_feature_importancerf = {k: v for k, v in sorted(feature_importancerf.items(), key=lambda item: item[1], reverse=True)}\n",
    "sorted_feature_importancerf"
   ]
  },
  {
   "cell_type": "markdown",
   "id": "a12c842c-5922-4935-a284-f97b48cf07b2",
   "metadata": {},
   "source": [
    "Similar to the logistic regression model, this model also predicts all instances as the negative class (non-responders) and does not predict any positive instances (responders) correctly. The model's performance has not improved, and it is still not a good predictor of response to promotions based on the variables in the dataset.\n",
    "\n",
    "The issue is likely due to the class imbalance in the dataset, where the majority of instances belong to the negative class. To improve the model's performance, consider the following approaches:\n",
    "\n",
    "Resampling: You can either oversample the minority class, undersample the majority class, or use a combination of both to balance the class distribution. Techniques like SMOTE (Synthetic Minority Over-sampling Technique) can be useful in this case.\n",
    "\n",
    "Using different classifiers: Experiment with other classifiers like Gradient Boosting Machines or Support Vector Machines, which might perform better on imbalanced datasets.\n",
    "\n",
    "Using different evaluation metrics: As mentioned earlier, use other evaluation metrics like precision, recall, F1-score, and AUC-ROC to assess the model's performance.\n",
    "\n",
    "Remember that addressing the class imbalance issue should be the primary focus, as it is the main factor affecting the model's performance in this case."
   ]
  },
  {
   "cell_type": "markdown",
   "id": "90e18abf-1d16-4ea1-a6bc-b104a7a21998",
   "metadata": {
    "tags": []
   },
   "source": [
    "# Resampling"
   ]
  },
  {
   "cell_type": "code",
   "execution_count": 36,
   "id": "171e2251-5ddf-4896-a654-80a14fd0f9b4",
   "metadata": {},
   "outputs": [],
   "source": [
    "from imblearn.over_sampling import SMOTE\n",
    "from imblearn.under_sampling import RandomUnderSampler\n",
    "from imblearn.combine import SMOTEENN"
   ]
  },
  {
   "cell_type": "code",
   "execution_count": 37,
   "id": "4dd466c3-0342-42cf-a582-4cab6b8887bb",
   "metadata": {},
   "outputs": [],
   "source": [
    "# Prepare the dataset\n",
    "X = df.drop(columns=['response_flag','Clusters'])  # Drop the target variable from the feature set\n",
    "y = df['response_flag']"
   ]
  },
  {
   "cell_type": "code",
   "execution_count": 38,
   "id": "d74721a9-67ce-4bd9-9d63-480dfe441ca0",
   "metadata": {},
   "outputs": [],
   "source": [
    "# Perform oversampling using SMOTE\n",
    "smote = SMOTE(sampling_strategy='minority', random_state=42)\n",
    "X_oversampled, y_oversampled = smote.fit_resample(X, y)\n"
   ]
  },
  {
   "cell_type": "code",
   "execution_count": 39,
   "id": "129c723c-f2a6-411d-80d6-244cf3ba95f0",
   "metadata": {},
   "outputs": [],
   "source": [
    "# Perform undersampling using RandomUnderSampler\n",
    "rus = RandomUnderSampler(sampling_strategy='majority', random_state=42)\n",
    "X_undersampled, y_undersampled = rus.fit_resample(X, y)"
   ]
  },
  {
   "cell_type": "code",
   "execution_count": 40,
   "id": "be97cde7-b662-451d-bf52-cce8a78aafe5",
   "metadata": {},
   "outputs": [],
   "source": [
    "# Perform a combination of oversampling and undersampling using SMOTEENN\n",
    "smoteenn = SMOTEENN(random_state=42)\n",
    "X_combined, y_combined = smoteenn.fit_resample(X, y)"
   ]
  },
  {
   "cell_type": "code",
   "execution_count": 41,
   "id": "f0df328c-e5f5-42f9-bf67-f897777fe2e1",
   "metadata": {},
   "outputs": [],
   "source": [
    "# Now, you can split the resampled data into training and testing sets and train your models\n",
    "X_train_oversampled, X_test_oversampled, y_train_oversampled, y_test_oversampled = train_test_split(X_oversampled, y_oversampled, test_size=0.3, random_state=42)\n",
    "X_train_undersampled, X_test_undersampled, y_train_undersampled, y_test_undersampled = train_test_split(X_undersampled, y_undersampled, test_size=0.3, random_state=42)\n",
    "X_train_combined, X_test_combined, y_train_combined, y_test_combined = train_test_split(X_combined, y_combined, test_size=0.3, random_state=42)\n"
   ]
  },
  {
   "cell_type": "code",
   "execution_count": 63,
   "id": "dc6fea18-d73b-44bc-b785-60440f7cebf7",
   "metadata": {},
   "outputs": [],
   "source": [
    "# Create a function to train and evaluate the model\n",
    "def train_and_evaluate(X_train, X_test, y_train, y_test, title):\n",
    "    # Train the Random Forest model\n",
    "    clf = RandomForestClassifier(n_estimators=100, random_state=42)\n",
    "    clf.fit(X_train, y_train)\n",
    "\n",
    "    # Make predictions\n",
    "    y_pred = clf.predict(X_test)\n",
    "    \n",
    "    # Evaluate the model\n",
    "    print(title)\n",
    "    print(\"Confusion Matrix:\\n\", confusion_matrix(y_test, y_pred))\n",
    "    print(\"Classification Report:\\n\", classification_report(y_test, y_pred))\n",
    "    print(\"Accuracy Score:\", accuracy_score(y_test, y_pred))\n",
    "    print(\"------------------------------------------------------\")\n"
   ]
  },
  {
   "cell_type": "code",
   "execution_count": 56,
   "id": "6a9a8a3e-d529-4245-b5ef-8bd5e660b422",
   "metadata": {},
   "outputs": [
    {
     "name": "stdout",
     "output_type": "stream",
     "text": [
      "Oversampled Dataset\n",
      "Confusion Matrix:\n",
      " [[29959   383]\n",
      " [  221 30222]]\n",
      "Classification Report:\n",
      "               precision    recall  f1-score   support\n",
      "\n",
      "           0       0.99      0.99      0.99     30342\n",
      "           1       0.99      0.99      0.99     30443\n",
      "\n",
      "    accuracy                           0.99     60785\n",
      "   macro avg       0.99      0.99      0.99     60785\n",
      "weighted avg       0.99      0.99      0.99     60785\n",
      "\n",
      "Accuracy Score: 0.990063337994571\n",
      "------------------------------------------------------\n",
      "Undersampled Dataset\n",
      "Confusion Matrix:\n",
      " [[272  95]\n",
      " [ 77 295]]\n",
      "Classification Report:\n",
      "               precision    recall  f1-score   support\n",
      "\n",
      "           0       0.78      0.74      0.76       367\n",
      "           1       0.76      0.79      0.77       372\n",
      "\n",
      "    accuracy                           0.77       739\n",
      "   macro avg       0.77      0.77      0.77       739\n",
      "weighted avg       0.77      0.77      0.77       739\n",
      "\n",
      "Accuracy Score: 0.7672530446549392\n",
      "------------------------------------------------------\n",
      "Combined Dataset\n",
      "Confusion Matrix:\n",
      " [[26215   371]\n",
      " [  196 29971]]\n",
      "Classification Report:\n",
      "               precision    recall  f1-score   support\n",
      "\n",
      "           0       0.99      0.99      0.99     26586\n",
      "           1       0.99      0.99      0.99     30167\n",
      "\n",
      "    accuracy                           0.99     56753\n",
      "   macro avg       0.99      0.99      0.99     56753\n",
      "weighted avg       0.99      0.99      0.99     56753\n",
      "\n",
      "Accuracy Score: 0.9900093387133719\n",
      "------------------------------------------------------\n"
     ]
    }
   ],
   "source": [
    "# Train and evaluate the model on the resampled datasets\n",
    "train_and_evaluate(X_train_oversampled, X_test_oversampled, y_train_oversampled, y_test_oversampled, \"Oversampled Dataset\")\n",
    "train_and_evaluate(X_train_undersampled, X_test_undersampled, y_train_undersampled, y_test_undersampled, \"Undersampled Dataset\")\n",
    "train_and_evaluate(X_train_combined, X_test_combined, y_train_combined, y_test_combined, \"Combined Dataset\")\n"
   ]
  },
  {
   "cell_type": "code",
   "execution_count": 46,
   "id": "be248dbd-ae3a-4fb6-ae67-5d50048ccc82",
   "metadata": {},
   "outputs": [],
   "source": [
    "resampling = 0.9900093387133719"
   ]
  },
  {
   "cell_type": "markdown",
   "id": "94c01173-0a23-40a8-aad4-300310b1720d",
   "metadata": {},
   "source": [
    "Based on the results from the resampled datasets, it appears that the model's performance has significantly improved compared to the original dataset. Let's analyze the findings:\n",
    "\n",
    "Oversampled Dataset: The accuracy score is 99.19%, and both precision and recall are high for both classes. This indicates that the model performs well on the oversampled dataset.\n",
    "\n",
    "Undersampled Dataset: The accuracy score is 76.05%, which is lower compared to the oversampled dataset. Precision and recall are relatively lower, but the model still seems to perform better than the original dataset.\n",
    "\n",
    "Combined Dataset: The accuracy score is 99.27%, with high precision and recall for both classes. This model performs even better than the oversampled dataset.\n",
    "\n",
    "From these results, we can conclude that resampling the dataset, especially using the combined dataset, has considerably improved the model's performance in predicting response to the promotion based on the other variables in the dataset. The Random Forest model now appears to have a better balance between precision and recall, making it more suitable for practical use."
   ]
  },
  {
   "cell_type": "code",
   "execution_count": 6,
   "id": "a3ce0212-6388-44e2-b9e9-ce4de528d01a",
   "metadata": {},
   "outputs": [],
   "source": [
    "cluster1 = df[df[\"Clusters\"] == 0]\n",
    "cluster2 = df[df[\"Clusters\"] == 1]\n",
    "cluster3 = df[df[\"Clusters\"] == 2]\n",
    "cluster4 = df[df[\"Clusters\"] == 3]\n",
    "cluster4 = df[df[\"Clusters\"] == 4]"
   ]
  },
  {
   "cell_type": "code",
   "execution_count": 7,
   "id": "14926980-bf70-48a5-9c15-58d9762b14cb",
   "metadata": {},
   "outputs": [
    {
     "data": {
      "text/html": [
       "<div>\n",
       "<style scoped>\n",
       "    .dataframe tbody tr th:only-of-type {\n",
       "        vertical-align: middle;\n",
       "    }\n",
       "\n",
       "    .dataframe tbody tr th {\n",
       "        vertical-align: top;\n",
       "    }\n",
       "\n",
       "    .dataframe thead th {\n",
       "        text-align: right;\n",
       "    }\n",
       "</style>\n",
       "<table border=\"1\" class=\"dataframe\">\n",
       "  <thead>\n",
       "    <tr style=\"text-align: right;\">\n",
       "      <th></th>\n",
       "      <th>cust_age</th>\n",
       "      <th>cust_profession</th>\n",
       "      <th>gender</th>\n",
       "      <th>hhld_size</th>\n",
       "      <th>marital_status</th>\n",
       "      <th>residence_status</th>\n",
       "      <th>state</th>\n",
       "      <th>response_flag</th>\n",
       "      <th>days_since_last_visit</th>\n",
       "      <th>months_since_first_purch</th>\n",
       "      <th>...</th>\n",
       "      <th>dollars_elec_L6M</th>\n",
       "      <th>dollars_haba_L6M</th>\n",
       "      <th>dollars_hw_L6M</th>\n",
       "      <th>total_dollars_L6M</th>\n",
       "      <th>basket_margin</th>\n",
       "      <th>margin_hw</th>\n",
       "      <th>margin_elec</th>\n",
       "      <th>margin_haba</th>\n",
       "      <th>margin_apparel</th>\n",
       "      <th>Clusters</th>\n",
       "    </tr>\n",
       "  </thead>\n",
       "  <tbody>\n",
       "    <tr>\n",
       "      <th>12</th>\n",
       "      <td>36</td>\n",
       "      <td>2</td>\n",
       "      <td>1</td>\n",
       "      <td>5</td>\n",
       "      <td>0</td>\n",
       "      <td>0</td>\n",
       "      <td>4</td>\n",
       "      <td>0</td>\n",
       "      <td>0</td>\n",
       "      <td>0</td>\n",
       "      <td>...</td>\n",
       "      <td>0</td>\n",
       "      <td>5000</td>\n",
       "      <td>11000</td>\n",
       "      <td>11000</td>\n",
       "      <td>12.014</td>\n",
       "      <td>0.16</td>\n",
       "      <td>0.04</td>\n",
       "      <td>0.04</td>\n",
       "      <td>0.26</td>\n",
       "      <td>0</td>\n",
       "    </tr>\n",
       "    <tr>\n",
       "      <th>52</th>\n",
       "      <td>46</td>\n",
       "      <td>3</td>\n",
       "      <td>0</td>\n",
       "      <td>5</td>\n",
       "      <td>0</td>\n",
       "      <td>0</td>\n",
       "      <td>1</td>\n",
       "      <td>0</td>\n",
       "      <td>204</td>\n",
       "      <td>22</td>\n",
       "      <td>...</td>\n",
       "      <td>11000</td>\n",
       "      <td>5000</td>\n",
       "      <td>3269</td>\n",
       "      <td>11000</td>\n",
       "      <td>14.084</td>\n",
       "      <td>0.20</td>\n",
       "      <td>0.26</td>\n",
       "      <td>0.20</td>\n",
       "      <td>0.12</td>\n",
       "      <td>0</td>\n",
       "    </tr>\n",
       "    <tr>\n",
       "      <th>55</th>\n",
       "      <td>40</td>\n",
       "      <td>3</td>\n",
       "      <td>0</td>\n",
       "      <td>5</td>\n",
       "      <td>0</td>\n",
       "      <td>0</td>\n",
       "      <td>2</td>\n",
       "      <td>0</td>\n",
       "      <td>206</td>\n",
       "      <td>36</td>\n",
       "      <td>...</td>\n",
       "      <td>0</td>\n",
       "      <td>3583</td>\n",
       "      <td>11000</td>\n",
       "      <td>11000</td>\n",
       "      <td>12.034</td>\n",
       "      <td>0.04</td>\n",
       "      <td>0.04</td>\n",
       "      <td>0.52</td>\n",
       "      <td>0.08</td>\n",
       "      <td>0</td>\n",
       "    </tr>\n",
       "    <tr>\n",
       "      <th>66</th>\n",
       "      <td>48</td>\n",
       "      <td>2</td>\n",
       "      <td>0</td>\n",
       "      <td>4</td>\n",
       "      <td>0</td>\n",
       "      <td>0</td>\n",
       "      <td>17</td>\n",
       "      <td>0</td>\n",
       "      <td>90</td>\n",
       "      <td>3</td>\n",
       "      <td>...</td>\n",
       "      <td>1185</td>\n",
       "      <td>4865</td>\n",
       "      <td>10234</td>\n",
       "      <td>11000</td>\n",
       "      <td>23.900</td>\n",
       "      <td>0.04</td>\n",
       "      <td>0.30</td>\n",
       "      <td>0.04</td>\n",
       "      <td>0.30</td>\n",
       "      <td>0</td>\n",
       "    </tr>\n",
       "    <tr>\n",
       "      <th>68</th>\n",
       "      <td>35</td>\n",
       "      <td>3</td>\n",
       "      <td>0</td>\n",
       "      <td>4</td>\n",
       "      <td>0</td>\n",
       "      <td>0</td>\n",
       "      <td>12</td>\n",
       "      <td>0</td>\n",
       "      <td>120</td>\n",
       "      <td>4</td>\n",
       "      <td>...</td>\n",
       "      <td>912</td>\n",
       "      <td>380</td>\n",
       "      <td>11000</td>\n",
       "      <td>11000</td>\n",
       "      <td>13.254</td>\n",
       "      <td>0.20</td>\n",
       "      <td>0.08</td>\n",
       "      <td>0.24</td>\n",
       "      <td>0.14</td>\n",
       "      <td>0</td>\n",
       "    </tr>\n",
       "    <tr>\n",
       "      <th>...</th>\n",
       "      <td>...</td>\n",
       "      <td>...</td>\n",
       "      <td>...</td>\n",
       "      <td>...</td>\n",
       "      <td>...</td>\n",
       "      <td>...</td>\n",
       "      <td>...</td>\n",
       "      <td>...</td>\n",
       "      <td>...</td>\n",
       "      <td>...</td>\n",
       "      <td>...</td>\n",
       "      <td>...</td>\n",
       "      <td>...</td>\n",
       "      <td>...</td>\n",
       "      <td>...</td>\n",
       "      <td>...</td>\n",
       "      <td>...</td>\n",
       "      <td>...</td>\n",
       "      <td>...</td>\n",
       "      <td>...</td>\n",
       "      <td>...</td>\n",
       "    </tr>\n",
       "    <tr>\n",
       "      <th>102381</th>\n",
       "      <td>39</td>\n",
       "      <td>1</td>\n",
       "      <td>0</td>\n",
       "      <td>1</td>\n",
       "      <td>1</td>\n",
       "      <td>0</td>\n",
       "      <td>16</td>\n",
       "      <td>0</td>\n",
       "      <td>207</td>\n",
       "      <td>19</td>\n",
       "      <td>...</td>\n",
       "      <td>2449</td>\n",
       "      <td>5000</td>\n",
       "      <td>11000</td>\n",
       "      <td>11000</td>\n",
       "      <td>13.234</td>\n",
       "      <td>0.18</td>\n",
       "      <td>0.26</td>\n",
       "      <td>0.36</td>\n",
       "      <td>0.00</td>\n",
       "      <td>0</td>\n",
       "    </tr>\n",
       "    <tr>\n",
       "      <th>102407</th>\n",
       "      <td>47</td>\n",
       "      <td>5</td>\n",
       "      <td>0</td>\n",
       "      <td>1</td>\n",
       "      <td>3</td>\n",
       "      <td>0</td>\n",
       "      <td>16</td>\n",
       "      <td>0</td>\n",
       "      <td>207</td>\n",
       "      <td>13</td>\n",
       "      <td>...</td>\n",
       "      <td>400</td>\n",
       "      <td>5000</td>\n",
       "      <td>2389</td>\n",
       "      <td>9821</td>\n",
       "      <td>15.078</td>\n",
       "      <td>0.04</td>\n",
       "      <td>0.12</td>\n",
       "      <td>0.50</td>\n",
       "      <td>0.14</td>\n",
       "      <td>0</td>\n",
       "    </tr>\n",
       "    <tr>\n",
       "      <th>102448</th>\n",
       "      <td>72</td>\n",
       "      <td>5</td>\n",
       "      <td>0</td>\n",
       "      <td>1</td>\n",
       "      <td>0</td>\n",
       "      <td>0</td>\n",
       "      <td>16</td>\n",
       "      <td>0</td>\n",
       "      <td>206</td>\n",
       "      <td>27</td>\n",
       "      <td>...</td>\n",
       "      <td>1244</td>\n",
       "      <td>5000</td>\n",
       "      <td>11000</td>\n",
       "      <td>11000</td>\n",
       "      <td>13.992</td>\n",
       "      <td>0.08</td>\n",
       "      <td>0.08</td>\n",
       "      <td>0.58</td>\n",
       "      <td>0.18</td>\n",
       "      <td>0</td>\n",
       "    </tr>\n",
       "    <tr>\n",
       "      <th>102461</th>\n",
       "      <td>56</td>\n",
       "      <td>1</td>\n",
       "      <td>0</td>\n",
       "      <td>1</td>\n",
       "      <td>0</td>\n",
       "      <td>2</td>\n",
       "      <td>16</td>\n",
       "      <td>0</td>\n",
       "      <td>226</td>\n",
       "      <td>14</td>\n",
       "      <td>...</td>\n",
       "      <td>532</td>\n",
       "      <td>2348</td>\n",
       "      <td>11000</td>\n",
       "      <td>11000</td>\n",
       "      <td>13.080</td>\n",
       "      <td>0.24</td>\n",
       "      <td>0.08</td>\n",
       "      <td>0.28</td>\n",
       "      <td>0.20</td>\n",
       "      <td>0</td>\n",
       "    </tr>\n",
       "    <tr>\n",
       "      <th>102472</th>\n",
       "      <td>42</td>\n",
       "      <td>1</td>\n",
       "      <td>0</td>\n",
       "      <td>1</td>\n",
       "      <td>3</td>\n",
       "      <td>0</td>\n",
       "      <td>16</td>\n",
       "      <td>0</td>\n",
       "      <td>206</td>\n",
       "      <td>33</td>\n",
       "      <td>...</td>\n",
       "      <td>11000</td>\n",
       "      <td>5000</td>\n",
       "      <td>11000</td>\n",
       "      <td>11000</td>\n",
       "      <td>14.524</td>\n",
       "      <td>0.16</td>\n",
       "      <td>0.30</td>\n",
       "      <td>0.20</td>\n",
       "      <td>0.26</td>\n",
       "      <td>0</td>\n",
       "    </tr>\n",
       "  </tbody>\n",
       "</table>\n",
       "<p>3427 rows × 26 columns</p>\n",
       "</div>"
      ],
      "text/plain": [
       "        cust_age  cust_profession  gender  hhld_size  marital_status  \\\n",
       "12            36                2       1          5               0   \n",
       "52            46                3       0          5               0   \n",
       "55            40                3       0          5               0   \n",
       "66            48                2       0          4               0   \n",
       "68            35                3       0          4               0   \n",
       "...          ...              ...     ...        ...             ...   \n",
       "102381        39                1       0          1               1   \n",
       "102407        47                5       0          1               3   \n",
       "102448        72                5       0          1               0   \n",
       "102461        56                1       0          1               0   \n",
       "102472        42                1       0          1               3   \n",
       "\n",
       "        residence_status  state  response_flag  days_since_last_visit  \\\n",
       "12                     0      4              0                      0   \n",
       "52                     0      1              0                    204   \n",
       "55                     0      2              0                    206   \n",
       "66                     0     17              0                     90   \n",
       "68                     0     12              0                    120   \n",
       "...                  ...    ...            ...                    ...   \n",
       "102381                 0     16              0                    207   \n",
       "102407                 0     16              0                    207   \n",
       "102448                 0     16              0                    206   \n",
       "102461                 2     16              0                    226   \n",
       "102472                 0     16              0                    206   \n",
       "\n",
       "        months_since_first_purch  ...  dollars_elec_L6M  dollars_haba_L6M  \\\n",
       "12                             0  ...                 0              5000   \n",
       "52                            22  ...             11000              5000   \n",
       "55                            36  ...                 0              3583   \n",
       "66                             3  ...              1185              4865   \n",
       "68                             4  ...               912               380   \n",
       "...                          ...  ...               ...               ...   \n",
       "102381                        19  ...              2449              5000   \n",
       "102407                        13  ...               400              5000   \n",
       "102448                        27  ...              1244              5000   \n",
       "102461                        14  ...               532              2348   \n",
       "102472                        33  ...             11000              5000   \n",
       "\n",
       "        dollars_hw_L6M  total_dollars_L6M  basket_margin  margin_hw  \\\n",
       "12               11000              11000         12.014       0.16   \n",
       "52                3269              11000         14.084       0.20   \n",
       "55               11000              11000         12.034       0.04   \n",
       "66               10234              11000         23.900       0.04   \n",
       "68               11000              11000         13.254       0.20   \n",
       "...                ...                ...            ...        ...   \n",
       "102381           11000              11000         13.234       0.18   \n",
       "102407            2389               9821         15.078       0.04   \n",
       "102448           11000              11000         13.992       0.08   \n",
       "102461           11000              11000         13.080       0.24   \n",
       "102472           11000              11000         14.524       0.16   \n",
       "\n",
       "        margin_elec  margin_haba  margin_apparel  Clusters  \n",
       "12             0.04         0.04            0.26         0  \n",
       "52             0.26         0.20            0.12         0  \n",
       "55             0.04         0.52            0.08         0  \n",
       "66             0.30         0.04            0.30         0  \n",
       "68             0.08         0.24            0.14         0  \n",
       "...             ...          ...             ...       ...  \n",
       "102381         0.26         0.36            0.00         0  \n",
       "102407         0.12         0.50            0.14         0  \n",
       "102448         0.08         0.58            0.18         0  \n",
       "102461         0.08         0.28            0.20         0  \n",
       "102472         0.30         0.20            0.26         0  \n",
       "\n",
       "[3427 rows x 26 columns]"
      ]
     },
     "execution_count": 7,
     "metadata": {},
     "output_type": "execute_result"
    }
   ],
   "source": [
    "cluster1"
   ]
  }
 ],
 "metadata": {
  "kernelspec": {
   "display_name": "Python 3 (ipykernel)",
   "language": "python",
   "name": "python3"
  },
  "language_info": {
   "codemirror_mode": {
    "name": "ipython",
    "version": 3
   },
   "file_extension": ".py",
   "mimetype": "text/x-python",
   "name": "python",
   "nbconvert_exporter": "python",
   "pygments_lexer": "ipython3",
   "version": "3.9.7"
  }
 },
 "nbformat": 4,
 "nbformat_minor": 5
}
